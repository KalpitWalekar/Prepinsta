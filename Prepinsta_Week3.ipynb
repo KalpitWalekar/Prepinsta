{
  "nbformat": 4,
  "nbformat_minor": 0,
  "metadata": {
    "colab": {
      "provenance": [],
      "authorship_tag": "ABX9TyML6PRrnwVwlDXkV3H5Eg5o",
      "include_colab_link": true
    },
    "kernelspec": {
      "name": "python3",
      "display_name": "Python 3"
    },
    "language_info": {
      "name": "python"
    }
  },
  "cells": [
    {
      "cell_type": "markdown",
      "metadata": {
        "id": "view-in-github",
        "colab_type": "text"
      },
      "source": [
        "<a href=\"https://colab.research.google.com/github/KalpitWalekar/Prepinsta/blob/main/Prepinsta_Week3.ipynb\" target=\"_parent\"><img src=\"https://colab.research.google.com/assets/colab-badge.svg\" alt=\"Open In Colab\"/></a>"
      ]
    },
    {
      "cell_type": "markdown",
      "source": [
        "##Hello Everyone\n",
        "So this project is about data cleaning through pandas, we have imported this dataset through the drive."
      ],
      "metadata": {
        "id": "5B7eu_rfcOSR"
      }
    },
    {
      "cell_type": "markdown",
      "source": [
        "#**Part-1**"
      ],
      "metadata": {
        "id": "MVAC5I00q68k"
      }
    },
    {
      "cell_type": "markdown",
      "source": [
        "Importing libraries and Mounting Drive"
      ],
      "metadata": {
        "id": "C21U9KysEB4Z"
      }
    },
    {
      "cell_type": "code",
      "source": [
        "import pandas as pd\n",
        "import numpy as np\n",
        "import matplotlib.pyplot as plt\n",
        "from google.colab import drive\n",
        "drive.mount(\"/content/gdrive\", force_remount= True)"
      ],
      "metadata": {
        "colab": {
          "base_uri": "https://localhost:8080/"
        },
        "id": "OUQ38p3ZaUX8",
        "outputId": "e5544f20-afa0-4583-f3fc-264510137448"
      },
      "execution_count": 1,
      "outputs": [
        {
          "output_type": "stream",
          "name": "stdout",
          "text": [
            "Mounted at /content/gdrive\n"
          ]
        }
      ]
    },
    {
      "cell_type": "code",
      "execution_count": 12,
      "metadata": {
        "colab": {
          "base_uri": "https://localhost:8080/"
        },
        "id": "Ji1QwzBTvyi_",
        "outputId": "cd4ce855-3b73-4f3b-b65c-69827bb311db"
      },
      "outputs": [
        {
          "output_type": "stream",
          "name": "stdout",
          "text": [
            "    Index   Age      Salary  Rating       Location  Established Easy Apply\n",
            "0       0  44.0   $44k-$99k     5.4       India,In         1999       TRUE\n",
            "1       1  66.0   $55k-$66k     3.5    New York,Ny         2002       TRUE\n",
            "2       2   NaN   $77k-$89k    -1.0    New York,Ny           -1         -1\n",
            "3       3  64.0   $44k-$99k     4.4       India In         1988         -1\n",
            "4       4  25.0   $44k-$99k     6.4  Australia Aus         2002         -1\n",
            "5       5  44.0   $77k-$89k     1.4       India,In         1999       TRUE\n",
            "6       6  21.0   $44k-$99k     0.0    New York,Ny           -1         -1\n",
            "7       7  44.0   $44k-$99k    -1.0  Australia Aus           -1         -1\n",
            "8       8  35.0   $44k-$99k     5.4    New York,Ny           -1         -1\n",
            "9       9  22.0   $44k-$99k     7.7       India,In           -1       TRUE\n",
            "10     10  55.0   $10k-$49k     5.4       India,In         2008       TRUE\n",
            "11     11  44.0   $10k-$49k     6.7       India,In         2009         -1\n",
            "12     12   NaN   $44k-$99k     0.0       India,In         1999         -1\n",
            "13     13  25.0   $44k-$99k    -1.0  Australia Aus         2019       TRUE\n",
            "14     14  66.0   $44k-$99k     4.0  Australia Aus         2020       TRUE\n",
            "15     15  44.0  $88k-$101k     3.0  Australia Aus         1999         -1\n",
            "16     16  19.0   $19k-$40k     4.5       India,In         1984         -1\n",
            "17     17   NaN   $44k-$99k     5.3    New York,Ny         1943       TRUE\n",
            "18     18  35.0   $44k-$99k     6.7    New York,Ny         1954       TRUE\n",
            "19     19  32.0   $44k-$99k     3.3    New York,Ny         1955       TRUE\n",
            "20     20   NaN   $44k-$99k     5.7    New York,Ny         1944       TRUE\n",
            "21     21  35.0   $44k-$99k     5.0    New York,Ny         1946         -1\n",
            "22     22  19.0   $55k-$66k     7.8    New York,Ny         1988       TRUE\n",
            "23     23   NaN   $44k-$99k     2.4    New York,Ny         1999       TRUE\n",
            "24     24  13.0   $44k-$99k    -1.0    New York,Ny         1987         -1\n",
            "25     25  55.0   $44k-$99k     0.0  Australia Aus         1980       TRUE\n",
            "26     26   NaN   $55k-$66k     NaN       India,In         1934       TRUE\n",
            "27     27  52.0   $44k-$99k     5.4       India,In         1935         -1\n",
            "28     28   NaN   $39k-$88k     3.4  Australia Aus         1932         -1\n"
          ]
        }
      ],
      "source": [
        "file_path = \"/content/gdrive/My Drive/python_docs/Prepinsta_week3_1.csv\"\n",
        "doc = pd.read_csv(file_path)\n",
        "print(doc)"
      ]
    },
    {
      "cell_type": "markdown",
      "source": [
        "Describing the primary dataset excluding the null values."
      ],
      "metadata": {
        "id": "FoU7IKGYcrn9"
      }
    },
    {
      "cell_type": "code",
      "source": [
        "doc.describe()"
      ],
      "metadata": {
        "colab": {
          "base_uri": "https://localhost:8080/",
          "height": 300
        },
        "id": "isAPu07MKftg",
        "outputId": "f25cbc0d-ec2a-4e00-9df6-08b289e22498"
      },
      "execution_count": 3,
      "outputs": [
        {
          "output_type": "execute_result",
          "data": {
            "text/plain": [
              "           Index        Age     Rating  Established\n",
              "count  29.000000  22.000000  28.000000    29.000000\n",
              "mean   14.000000  39.045455   3.528571  1638.620690\n",
              "std     8.514693  16.134781   2.825133   762.079599\n",
              "min     0.000000  13.000000  -1.000000    -1.000000\n",
              "25%     7.000000  25.000000   1.050000  1935.000000\n",
              "50%    14.000000  39.500000   4.200000  1984.000000\n",
              "75%    21.000000  50.000000   5.400000  1999.000000\n",
              "max    28.000000  66.000000   7.800000  2020.000000"
            ],
            "text/html": [
              "\n",
              "  <div id=\"df-59f12a52-d72e-4d97-a4ab-53a49df9425e\" class=\"colab-df-container\">\n",
              "    <div>\n",
              "<style scoped>\n",
              "    .dataframe tbody tr th:only-of-type {\n",
              "        vertical-align: middle;\n",
              "    }\n",
              "\n",
              "    .dataframe tbody tr th {\n",
              "        vertical-align: top;\n",
              "    }\n",
              "\n",
              "    .dataframe thead th {\n",
              "        text-align: right;\n",
              "    }\n",
              "</style>\n",
              "<table border=\"1\" class=\"dataframe\">\n",
              "  <thead>\n",
              "    <tr style=\"text-align: right;\">\n",
              "      <th></th>\n",
              "      <th>Index</th>\n",
              "      <th>Age</th>\n",
              "      <th>Rating</th>\n",
              "      <th>Established</th>\n",
              "    </tr>\n",
              "  </thead>\n",
              "  <tbody>\n",
              "    <tr>\n",
              "      <th>count</th>\n",
              "      <td>29.000000</td>\n",
              "      <td>22.000000</td>\n",
              "      <td>28.000000</td>\n",
              "      <td>29.000000</td>\n",
              "    </tr>\n",
              "    <tr>\n",
              "      <th>mean</th>\n",
              "      <td>14.000000</td>\n",
              "      <td>39.045455</td>\n",
              "      <td>3.528571</td>\n",
              "      <td>1638.620690</td>\n",
              "    </tr>\n",
              "    <tr>\n",
              "      <th>std</th>\n",
              "      <td>8.514693</td>\n",
              "      <td>16.134781</td>\n",
              "      <td>2.825133</td>\n",
              "      <td>762.079599</td>\n",
              "    </tr>\n",
              "    <tr>\n",
              "      <th>min</th>\n",
              "      <td>0.000000</td>\n",
              "      <td>13.000000</td>\n",
              "      <td>-1.000000</td>\n",
              "      <td>-1.000000</td>\n",
              "    </tr>\n",
              "    <tr>\n",
              "      <th>25%</th>\n",
              "      <td>7.000000</td>\n",
              "      <td>25.000000</td>\n",
              "      <td>1.050000</td>\n",
              "      <td>1935.000000</td>\n",
              "    </tr>\n",
              "    <tr>\n",
              "      <th>50%</th>\n",
              "      <td>14.000000</td>\n",
              "      <td>39.500000</td>\n",
              "      <td>4.200000</td>\n",
              "      <td>1984.000000</td>\n",
              "    </tr>\n",
              "    <tr>\n",
              "      <th>75%</th>\n",
              "      <td>21.000000</td>\n",
              "      <td>50.000000</td>\n",
              "      <td>5.400000</td>\n",
              "      <td>1999.000000</td>\n",
              "    </tr>\n",
              "    <tr>\n",
              "      <th>max</th>\n",
              "      <td>28.000000</td>\n",
              "      <td>66.000000</td>\n",
              "      <td>7.800000</td>\n",
              "      <td>2020.000000</td>\n",
              "    </tr>\n",
              "  </tbody>\n",
              "</table>\n",
              "</div>\n",
              "    <div class=\"colab-df-buttons\">\n",
              "\n",
              "  <div class=\"colab-df-container\">\n",
              "    <button class=\"colab-df-convert\" onclick=\"convertToInteractive('df-59f12a52-d72e-4d97-a4ab-53a49df9425e')\"\n",
              "            title=\"Convert this dataframe to an interactive table.\"\n",
              "            style=\"display:none;\">\n",
              "\n",
              "  <svg xmlns=\"http://www.w3.org/2000/svg\" height=\"24px\" viewBox=\"0 -960 960 960\">\n",
              "    <path d=\"M120-120v-720h720v720H120Zm60-500h600v-160H180v160Zm220 220h160v-160H400v160Zm0 220h160v-160H400v160ZM180-400h160v-160H180v160Zm440 0h160v-160H620v160ZM180-180h160v-160H180v160Zm440 0h160v-160H620v160Z\"/>\n",
              "  </svg>\n",
              "    </button>\n",
              "\n",
              "  <style>\n",
              "    .colab-df-container {\n",
              "      display:flex;\n",
              "      gap: 12px;\n",
              "    }\n",
              "\n",
              "    .colab-df-convert {\n",
              "      background-color: #E8F0FE;\n",
              "      border: none;\n",
              "      border-radius: 50%;\n",
              "      cursor: pointer;\n",
              "      display: none;\n",
              "      fill: #1967D2;\n",
              "      height: 32px;\n",
              "      padding: 0 0 0 0;\n",
              "      width: 32px;\n",
              "    }\n",
              "\n",
              "    .colab-df-convert:hover {\n",
              "      background-color: #E2EBFA;\n",
              "      box-shadow: 0px 1px 2px rgba(60, 64, 67, 0.3), 0px 1px 3px 1px rgba(60, 64, 67, 0.15);\n",
              "      fill: #174EA6;\n",
              "    }\n",
              "\n",
              "    .colab-df-buttons div {\n",
              "      margin-bottom: 4px;\n",
              "    }\n",
              "\n",
              "    [theme=dark] .colab-df-convert {\n",
              "      background-color: #3B4455;\n",
              "      fill: #D2E3FC;\n",
              "    }\n",
              "\n",
              "    [theme=dark] .colab-df-convert:hover {\n",
              "      background-color: #434B5C;\n",
              "      box-shadow: 0px 1px 3px 1px rgba(0, 0, 0, 0.15);\n",
              "      filter: drop-shadow(0px 1px 2px rgba(0, 0, 0, 0.3));\n",
              "      fill: #FFFFFF;\n",
              "    }\n",
              "  </style>\n",
              "\n",
              "    <script>\n",
              "      const buttonEl =\n",
              "        document.querySelector('#df-59f12a52-d72e-4d97-a4ab-53a49df9425e button.colab-df-convert');\n",
              "      buttonEl.style.display =\n",
              "        google.colab.kernel.accessAllowed ? 'block' : 'none';\n",
              "\n",
              "      async function convertToInteractive(key) {\n",
              "        const element = document.querySelector('#df-59f12a52-d72e-4d97-a4ab-53a49df9425e');\n",
              "        const dataTable =\n",
              "          await google.colab.kernel.invokeFunction('convertToInteractive',\n",
              "                                                    [key], {});\n",
              "        if (!dataTable) return;\n",
              "\n",
              "        const docLinkHtml = 'Like what you see? Visit the ' +\n",
              "          '<a target=\"_blank\" href=https://colab.research.google.com/notebooks/data_table.ipynb>data table notebook</a>'\n",
              "          + ' to learn more about interactive tables.';\n",
              "        element.innerHTML = '';\n",
              "        dataTable['output_type'] = 'display_data';\n",
              "        await google.colab.output.renderOutput(dataTable, element);\n",
              "        const docLink = document.createElement('div');\n",
              "        docLink.innerHTML = docLinkHtml;\n",
              "        element.appendChild(docLink);\n",
              "      }\n",
              "    </script>\n",
              "  </div>\n",
              "\n",
              "\n",
              "<div id=\"df-2daf9a2d-edaa-4be4-b4d0-3d35eb7f1eb8\">\n",
              "  <button class=\"colab-df-quickchart\" onclick=\"quickchart('df-2daf9a2d-edaa-4be4-b4d0-3d35eb7f1eb8')\"\n",
              "            title=\"Suggest charts\"\n",
              "            style=\"display:none;\">\n",
              "\n",
              "<svg xmlns=\"http://www.w3.org/2000/svg\" height=\"24px\"viewBox=\"0 0 24 24\"\n",
              "     width=\"24px\">\n",
              "    <g>\n",
              "        <path d=\"M19 3H5c-1.1 0-2 .9-2 2v14c0 1.1.9 2 2 2h14c1.1 0 2-.9 2-2V5c0-1.1-.9-2-2-2zM9 17H7v-7h2v7zm4 0h-2V7h2v10zm4 0h-2v-4h2v4z\"/>\n",
              "    </g>\n",
              "</svg>\n",
              "  </button>\n",
              "\n",
              "<style>\n",
              "  .colab-df-quickchart {\n",
              "      --bg-color: #E8F0FE;\n",
              "      --fill-color: #1967D2;\n",
              "      --hover-bg-color: #E2EBFA;\n",
              "      --hover-fill-color: #174EA6;\n",
              "      --disabled-fill-color: #AAA;\n",
              "      --disabled-bg-color: #DDD;\n",
              "  }\n",
              "\n",
              "  [theme=dark] .colab-df-quickchart {\n",
              "      --bg-color: #3B4455;\n",
              "      --fill-color: #D2E3FC;\n",
              "      --hover-bg-color: #434B5C;\n",
              "      --hover-fill-color: #FFFFFF;\n",
              "      --disabled-bg-color: #3B4455;\n",
              "      --disabled-fill-color: #666;\n",
              "  }\n",
              "\n",
              "  .colab-df-quickchart {\n",
              "    background-color: var(--bg-color);\n",
              "    border: none;\n",
              "    border-radius: 50%;\n",
              "    cursor: pointer;\n",
              "    display: none;\n",
              "    fill: var(--fill-color);\n",
              "    height: 32px;\n",
              "    padding: 0;\n",
              "    width: 32px;\n",
              "  }\n",
              "\n",
              "  .colab-df-quickchart:hover {\n",
              "    background-color: var(--hover-bg-color);\n",
              "    box-shadow: 0 1px 2px rgba(60, 64, 67, 0.3), 0 1px 3px 1px rgba(60, 64, 67, 0.15);\n",
              "    fill: var(--button-hover-fill-color);\n",
              "  }\n",
              "\n",
              "  .colab-df-quickchart-complete:disabled,\n",
              "  .colab-df-quickchart-complete:disabled:hover {\n",
              "    background-color: var(--disabled-bg-color);\n",
              "    fill: var(--disabled-fill-color);\n",
              "    box-shadow: none;\n",
              "  }\n",
              "\n",
              "  .colab-df-spinner {\n",
              "    border: 2px solid var(--fill-color);\n",
              "    border-color: transparent;\n",
              "    border-bottom-color: var(--fill-color);\n",
              "    animation:\n",
              "      spin 1s steps(1) infinite;\n",
              "  }\n",
              "\n",
              "  @keyframes spin {\n",
              "    0% {\n",
              "      border-color: transparent;\n",
              "      border-bottom-color: var(--fill-color);\n",
              "      border-left-color: var(--fill-color);\n",
              "    }\n",
              "    20% {\n",
              "      border-color: transparent;\n",
              "      border-left-color: var(--fill-color);\n",
              "      border-top-color: var(--fill-color);\n",
              "    }\n",
              "    30% {\n",
              "      border-color: transparent;\n",
              "      border-left-color: var(--fill-color);\n",
              "      border-top-color: var(--fill-color);\n",
              "      border-right-color: var(--fill-color);\n",
              "    }\n",
              "    40% {\n",
              "      border-color: transparent;\n",
              "      border-right-color: var(--fill-color);\n",
              "      border-top-color: var(--fill-color);\n",
              "    }\n",
              "    60% {\n",
              "      border-color: transparent;\n",
              "      border-right-color: var(--fill-color);\n",
              "    }\n",
              "    80% {\n",
              "      border-color: transparent;\n",
              "      border-right-color: var(--fill-color);\n",
              "      border-bottom-color: var(--fill-color);\n",
              "    }\n",
              "    90% {\n",
              "      border-color: transparent;\n",
              "      border-bottom-color: var(--fill-color);\n",
              "    }\n",
              "  }\n",
              "</style>\n",
              "\n",
              "  <script>\n",
              "    async function quickchart(key) {\n",
              "      const quickchartButtonEl =\n",
              "        document.querySelector('#' + key + ' button');\n",
              "      quickchartButtonEl.disabled = true;  // To prevent multiple clicks.\n",
              "      quickchartButtonEl.classList.add('colab-df-spinner');\n",
              "      try {\n",
              "        const charts = await google.colab.kernel.invokeFunction(\n",
              "            'suggestCharts', [key], {});\n",
              "      } catch (error) {\n",
              "        console.error('Error during call to suggestCharts:', error);\n",
              "      }\n",
              "      quickchartButtonEl.classList.remove('colab-df-spinner');\n",
              "      quickchartButtonEl.classList.add('colab-df-quickchart-complete');\n",
              "    }\n",
              "    (() => {\n",
              "      let quickchartButtonEl =\n",
              "        document.querySelector('#df-2daf9a2d-edaa-4be4-b4d0-3d35eb7f1eb8 button');\n",
              "      quickchartButtonEl.style.display =\n",
              "        google.colab.kernel.accessAllowed ? 'block' : 'none';\n",
              "    })();\n",
              "  </script>\n",
              "</div>\n",
              "\n",
              "    </div>\n",
              "  </div>\n"
            ]
          },
          "metadata": {},
          "execution_count": 3
        }
      ]
    },
    {
      "cell_type": "markdown",
      "source": [
        "Using basic head, tail and sample functions to explore the dataset."
      ],
      "metadata": {
        "id": "1I00ZwMjMTCU"
      }
    },
    {
      "cell_type": "code",
      "source": [
        "head = doc.head(3)\n",
        "tail = doc.tail(3)\n",
        "sam = doc.sample(3)\n",
        "print(\"Head\")\n",
        "print(head)\n",
        "print(\"Tail\")\n",
        "print(tail)\n",
        "print(\"Sample\")\n",
        "print(sam)"
      ],
      "metadata": {
        "colab": {
          "base_uri": "https://localhost:8080/"
        },
        "id": "kHKiVde6JVyR",
        "outputId": "e9f113fe-3086-46e7-e263-7bca151a3d72"
      },
      "execution_count": 4,
      "outputs": [
        {
          "output_type": "stream",
          "name": "stdout",
          "text": [
            "Head\n",
            "   Index   Age     Salary  Rating     Location  Established Easy Apply\n",
            "0      0  44.0  $44k-$99k     5.4     India,In         1999       TRUE\n",
            "1      1  66.0  $55k-$66k     3.5  New York,Ny         2002       TRUE\n",
            "2      2   NaN  $77k-$89k    -1.0  New York,Ny           -1         -1\n",
            "Tail\n",
            "    Index   Age     Salary  Rating       Location  Established Easy Apply\n",
            "26     26   NaN  $55k-$66k     NaN       India,In         1934       TRUE\n",
            "27     27  52.0  $44k-$99k     5.4       India,In         1935         -1\n",
            "28     28   NaN  $39k-$88k     3.4  Australia Aus         1932         -1\n",
            "Sample\n",
            "    Index   Age     Salary  Rating     Location  Established Easy Apply\n",
            "8       8  35.0  $44k-$99k     5.4  New York,Ny           -1         -1\n",
            "11     11  44.0  $10k-$49k     6.7     India,In         2009         -1\n",
            "3       3  64.0  $44k-$99k     4.4     India In         1988         -1\n"
          ]
        }
      ]
    },
    {
      "cell_type": "markdown",
      "source": [
        "##Cleaning the dataset Column by Column (As the dataset is small)"
      ],
      "metadata": {
        "id": "kZtAD4p3eLF8"
      }
    },
    {
      "cell_type": "markdown",
      "source": [
        "Dropping the index column as we already have indexing."
      ],
      "metadata": {
        "id": "Su8SF02qE9sn"
      }
    },
    {
      "cell_type": "code",
      "source": [
        "doc.columns=doc.columns.str.lower().str.replace(\" \",\"_\")\n",
        "doc2 = doc.drop(\"index\",axis='columns')"
      ],
      "metadata": {
        "id": "NtMlgqqjJyFG"
      },
      "execution_count": 13,
      "outputs": []
    },
    {
      "cell_type": "code",
      "source": [
        "mean_age=doc2['age'].mean()"
      ],
      "metadata": {
        "id": "X6Lj_kyCPPjJ"
      },
      "execution_count": 14,
      "outputs": []
    },
    {
      "cell_type": "code",
      "source": [
        "doc.dtypes\n",
        "doc2.dtypes"
      ],
      "metadata": {
        "colab": {
          "base_uri": "https://localhost:8080/"
        },
        "id": "HyYPZGC8thXn",
        "outputId": "e6d79aa0-3709-4776-dbb4-8702e95df79c"
      },
      "execution_count": 15,
      "outputs": [
        {
          "output_type": "execute_result",
          "data": {
            "text/plain": [
              "age            float64\n",
              "salary          object\n",
              "rating         float64\n",
              "location        object\n",
              "established      int64\n",
              "easy_apply      object\n",
              "dtype: object"
            ]
          },
          "metadata": {},
          "execution_count": 15
        }
      ]
    },
    {
      "cell_type": "markdown",
      "source": [
        "Here I have used mean age to replace the missing value, as mean is less sensitive to outliers than other imputation methods."
      ],
      "metadata": {
        "id": "DiKoEF6OGG8t"
      }
    },
    {
      "cell_type": "code",
      "source": [
        "doc2['age'].fillna(mean_age,inplace=True)\n",
        "doc2['age']=doc2['age'].round()"
      ],
      "metadata": {
        "id": "Om6GXZQXMW2n"
      },
      "execution_count": 17,
      "outputs": []
    },
    {
      "cell_type": "markdown",
      "source": [
        "As Age usually is in interger format not float or decimal so let's keep it that way."
      ],
      "metadata": {
        "id": "KdWcIJGEFwkf"
      }
    },
    {
      "cell_type": "code",
      "source": [
        "doc2['age'] = doc2['age'].astype(int)\n",
        "doc2['age']"
      ],
      "metadata": {
        "colab": {
          "base_uri": "https://localhost:8080/"
        },
        "id": "eIHDRJWGR62K",
        "outputId": "c37c17ef-8211-4e5c-c144-1f6db5ec3bb2"
      },
      "execution_count": 18,
      "outputs": [
        {
          "output_type": "execute_result",
          "data": {
            "text/plain": [
              "0     44\n",
              "1     66\n",
              "2     39\n",
              "3     64\n",
              "4     25\n",
              "5     44\n",
              "6     21\n",
              "7     44\n",
              "8     35\n",
              "9     22\n",
              "10    55\n",
              "11    44\n",
              "12    39\n",
              "13    25\n",
              "14    66\n",
              "15    44\n",
              "16    19\n",
              "17    39\n",
              "18    35\n",
              "19    32\n",
              "20    39\n",
              "21    35\n",
              "22    19\n",
              "23    39\n",
              "24    13\n",
              "25    55\n",
              "26    39\n",
              "27    52\n",
              "28    39\n",
              "Name: age, dtype: int64"
            ]
          },
          "metadata": {},
          "execution_count": 18
        }
      ]
    },
    {
      "cell_type": "code",
      "source": [
        "#cleaning the salary column\n",
        "doc2['salary']=doc2[\"salary\"].apply(lambda x:x.replace('$',' '))\n",
        "doc2['salary']=doc2['salary'].apply(lambda y:y.replace('k','000'))\n",
        "doc2['salary_low']=doc2['salary'].str.split('-',expand=True).get(0)\n",
        "doc2['salary_high']=doc2['salary'].str.split('-',expand=True).get(1)\n",
        "doc2['salary']=doc2[\"salary\"].apply(lambda x:x.replace('-',' -'))\n",
        "doc2.rename(columns={'salary': 'salary_range'}, inplace=True)\n",
        "doc2.head(3)"
      ],
      "metadata": {
        "colab": {
          "base_uri": "https://localhost:8080/",
          "height": 143
        },
        "id": "7dA1vBgOSTmQ",
        "outputId": "41c77629-bd13-47e7-a63b-ff33e6b7e032"
      },
      "execution_count": 19,
      "outputs": [
        {
          "output_type": "execute_result",
          "data": {
            "text/plain": [
              "   age    salary_range  rating     location  established easy_apply  \\\n",
              "0   44   44000 - 99000     5.4     India,In         1999       TRUE   \n",
              "1   66   55000 - 66000     3.5  New York,Ny         2002       TRUE   \n",
              "2   39   77000 - 89000    -1.0  New York,Ny           -1         -1   \n",
              "\n",
              "  salary_low salary_high  \n",
              "0      44000       99000  \n",
              "1      55000       66000  \n",
              "2      77000       89000  "
            ],
            "text/html": [
              "\n",
              "  <div id=\"df-377b3e05-9725-4010-b464-3ab4198d47d9\" class=\"colab-df-container\">\n",
              "    <div>\n",
              "<style scoped>\n",
              "    .dataframe tbody tr th:only-of-type {\n",
              "        vertical-align: middle;\n",
              "    }\n",
              "\n",
              "    .dataframe tbody tr th {\n",
              "        vertical-align: top;\n",
              "    }\n",
              "\n",
              "    .dataframe thead th {\n",
              "        text-align: right;\n",
              "    }\n",
              "</style>\n",
              "<table border=\"1\" class=\"dataframe\">\n",
              "  <thead>\n",
              "    <tr style=\"text-align: right;\">\n",
              "      <th></th>\n",
              "      <th>age</th>\n",
              "      <th>salary_range</th>\n",
              "      <th>rating</th>\n",
              "      <th>location</th>\n",
              "      <th>established</th>\n",
              "      <th>easy_apply</th>\n",
              "      <th>salary_low</th>\n",
              "      <th>salary_high</th>\n",
              "    </tr>\n",
              "  </thead>\n",
              "  <tbody>\n",
              "    <tr>\n",
              "      <th>0</th>\n",
              "      <td>44</td>\n",
              "      <td>44000 - 99000</td>\n",
              "      <td>5.4</td>\n",
              "      <td>India,In</td>\n",
              "      <td>1999</td>\n",
              "      <td>TRUE</td>\n",
              "      <td>44000</td>\n",
              "      <td>99000</td>\n",
              "    </tr>\n",
              "    <tr>\n",
              "      <th>1</th>\n",
              "      <td>66</td>\n",
              "      <td>55000 - 66000</td>\n",
              "      <td>3.5</td>\n",
              "      <td>New York,Ny</td>\n",
              "      <td>2002</td>\n",
              "      <td>TRUE</td>\n",
              "      <td>55000</td>\n",
              "      <td>66000</td>\n",
              "    </tr>\n",
              "    <tr>\n",
              "      <th>2</th>\n",
              "      <td>39</td>\n",
              "      <td>77000 - 89000</td>\n",
              "      <td>-1.0</td>\n",
              "      <td>New York,Ny</td>\n",
              "      <td>-1</td>\n",
              "      <td>-1</td>\n",
              "      <td>77000</td>\n",
              "      <td>89000</td>\n",
              "    </tr>\n",
              "  </tbody>\n",
              "</table>\n",
              "</div>\n",
              "    <div class=\"colab-df-buttons\">\n",
              "\n",
              "  <div class=\"colab-df-container\">\n",
              "    <button class=\"colab-df-convert\" onclick=\"convertToInteractive('df-377b3e05-9725-4010-b464-3ab4198d47d9')\"\n",
              "            title=\"Convert this dataframe to an interactive table.\"\n",
              "            style=\"display:none;\">\n",
              "\n",
              "  <svg xmlns=\"http://www.w3.org/2000/svg\" height=\"24px\" viewBox=\"0 -960 960 960\">\n",
              "    <path d=\"M120-120v-720h720v720H120Zm60-500h600v-160H180v160Zm220 220h160v-160H400v160Zm0 220h160v-160H400v160ZM180-400h160v-160H180v160Zm440 0h160v-160H620v160ZM180-180h160v-160H180v160Zm440 0h160v-160H620v160Z\"/>\n",
              "  </svg>\n",
              "    </button>\n",
              "\n",
              "  <style>\n",
              "    .colab-df-container {\n",
              "      display:flex;\n",
              "      gap: 12px;\n",
              "    }\n",
              "\n",
              "    .colab-df-convert {\n",
              "      background-color: #E8F0FE;\n",
              "      border: none;\n",
              "      border-radius: 50%;\n",
              "      cursor: pointer;\n",
              "      display: none;\n",
              "      fill: #1967D2;\n",
              "      height: 32px;\n",
              "      padding: 0 0 0 0;\n",
              "      width: 32px;\n",
              "    }\n",
              "\n",
              "    .colab-df-convert:hover {\n",
              "      background-color: #E2EBFA;\n",
              "      box-shadow: 0px 1px 2px rgba(60, 64, 67, 0.3), 0px 1px 3px 1px rgba(60, 64, 67, 0.15);\n",
              "      fill: #174EA6;\n",
              "    }\n",
              "\n",
              "    .colab-df-buttons div {\n",
              "      margin-bottom: 4px;\n",
              "    }\n",
              "\n",
              "    [theme=dark] .colab-df-convert {\n",
              "      background-color: #3B4455;\n",
              "      fill: #D2E3FC;\n",
              "    }\n",
              "\n",
              "    [theme=dark] .colab-df-convert:hover {\n",
              "      background-color: #434B5C;\n",
              "      box-shadow: 0px 1px 3px 1px rgba(0, 0, 0, 0.15);\n",
              "      filter: drop-shadow(0px 1px 2px rgba(0, 0, 0, 0.3));\n",
              "      fill: #FFFFFF;\n",
              "    }\n",
              "  </style>\n",
              "\n",
              "    <script>\n",
              "      const buttonEl =\n",
              "        document.querySelector('#df-377b3e05-9725-4010-b464-3ab4198d47d9 button.colab-df-convert');\n",
              "      buttonEl.style.display =\n",
              "        google.colab.kernel.accessAllowed ? 'block' : 'none';\n",
              "\n",
              "      async function convertToInteractive(key) {\n",
              "        const element = document.querySelector('#df-377b3e05-9725-4010-b464-3ab4198d47d9');\n",
              "        const dataTable =\n",
              "          await google.colab.kernel.invokeFunction('convertToInteractive',\n",
              "                                                    [key], {});\n",
              "        if (!dataTable) return;\n",
              "\n",
              "        const docLinkHtml = 'Like what you see? Visit the ' +\n",
              "          '<a target=\"_blank\" href=https://colab.research.google.com/notebooks/data_table.ipynb>data table notebook</a>'\n",
              "          + ' to learn more about interactive tables.';\n",
              "        element.innerHTML = '';\n",
              "        dataTable['output_type'] = 'display_data';\n",
              "        await google.colab.output.renderOutput(dataTable, element);\n",
              "        const docLink = document.createElement('div');\n",
              "        docLink.innerHTML = docLinkHtml;\n",
              "        element.appendChild(docLink);\n",
              "      }\n",
              "    </script>\n",
              "  </div>\n",
              "\n",
              "\n",
              "<div id=\"df-0270d424-f48d-48d7-923d-f4ce3ab3617c\">\n",
              "  <button class=\"colab-df-quickchart\" onclick=\"quickchart('df-0270d424-f48d-48d7-923d-f4ce3ab3617c')\"\n",
              "            title=\"Suggest charts\"\n",
              "            style=\"display:none;\">\n",
              "\n",
              "<svg xmlns=\"http://www.w3.org/2000/svg\" height=\"24px\"viewBox=\"0 0 24 24\"\n",
              "     width=\"24px\">\n",
              "    <g>\n",
              "        <path d=\"M19 3H5c-1.1 0-2 .9-2 2v14c0 1.1.9 2 2 2h14c1.1 0 2-.9 2-2V5c0-1.1-.9-2-2-2zM9 17H7v-7h2v7zm4 0h-2V7h2v10zm4 0h-2v-4h2v4z\"/>\n",
              "    </g>\n",
              "</svg>\n",
              "  </button>\n",
              "\n",
              "<style>\n",
              "  .colab-df-quickchart {\n",
              "      --bg-color: #E8F0FE;\n",
              "      --fill-color: #1967D2;\n",
              "      --hover-bg-color: #E2EBFA;\n",
              "      --hover-fill-color: #174EA6;\n",
              "      --disabled-fill-color: #AAA;\n",
              "      --disabled-bg-color: #DDD;\n",
              "  }\n",
              "\n",
              "  [theme=dark] .colab-df-quickchart {\n",
              "      --bg-color: #3B4455;\n",
              "      --fill-color: #D2E3FC;\n",
              "      --hover-bg-color: #434B5C;\n",
              "      --hover-fill-color: #FFFFFF;\n",
              "      --disabled-bg-color: #3B4455;\n",
              "      --disabled-fill-color: #666;\n",
              "  }\n",
              "\n",
              "  .colab-df-quickchart {\n",
              "    background-color: var(--bg-color);\n",
              "    border: none;\n",
              "    border-radius: 50%;\n",
              "    cursor: pointer;\n",
              "    display: none;\n",
              "    fill: var(--fill-color);\n",
              "    height: 32px;\n",
              "    padding: 0;\n",
              "    width: 32px;\n",
              "  }\n",
              "\n",
              "  .colab-df-quickchart:hover {\n",
              "    background-color: var(--hover-bg-color);\n",
              "    box-shadow: 0 1px 2px rgba(60, 64, 67, 0.3), 0 1px 3px 1px rgba(60, 64, 67, 0.15);\n",
              "    fill: var(--button-hover-fill-color);\n",
              "  }\n",
              "\n",
              "  .colab-df-quickchart-complete:disabled,\n",
              "  .colab-df-quickchart-complete:disabled:hover {\n",
              "    background-color: var(--disabled-bg-color);\n",
              "    fill: var(--disabled-fill-color);\n",
              "    box-shadow: none;\n",
              "  }\n",
              "\n",
              "  .colab-df-spinner {\n",
              "    border: 2px solid var(--fill-color);\n",
              "    border-color: transparent;\n",
              "    border-bottom-color: var(--fill-color);\n",
              "    animation:\n",
              "      spin 1s steps(1) infinite;\n",
              "  }\n",
              "\n",
              "  @keyframes spin {\n",
              "    0% {\n",
              "      border-color: transparent;\n",
              "      border-bottom-color: var(--fill-color);\n",
              "      border-left-color: var(--fill-color);\n",
              "    }\n",
              "    20% {\n",
              "      border-color: transparent;\n",
              "      border-left-color: var(--fill-color);\n",
              "      border-top-color: var(--fill-color);\n",
              "    }\n",
              "    30% {\n",
              "      border-color: transparent;\n",
              "      border-left-color: var(--fill-color);\n",
              "      border-top-color: var(--fill-color);\n",
              "      border-right-color: var(--fill-color);\n",
              "    }\n",
              "    40% {\n",
              "      border-color: transparent;\n",
              "      border-right-color: var(--fill-color);\n",
              "      border-top-color: var(--fill-color);\n",
              "    }\n",
              "    60% {\n",
              "      border-color: transparent;\n",
              "      border-right-color: var(--fill-color);\n",
              "    }\n",
              "    80% {\n",
              "      border-color: transparent;\n",
              "      border-right-color: var(--fill-color);\n",
              "      border-bottom-color: var(--fill-color);\n",
              "    }\n",
              "    90% {\n",
              "      border-color: transparent;\n",
              "      border-bottom-color: var(--fill-color);\n",
              "    }\n",
              "  }\n",
              "</style>\n",
              "\n",
              "  <script>\n",
              "    async function quickchart(key) {\n",
              "      const quickchartButtonEl =\n",
              "        document.querySelector('#' + key + ' button');\n",
              "      quickchartButtonEl.disabled = true;  // To prevent multiple clicks.\n",
              "      quickchartButtonEl.classList.add('colab-df-spinner');\n",
              "      try {\n",
              "        const charts = await google.colab.kernel.invokeFunction(\n",
              "            'suggestCharts', [key], {});\n",
              "      } catch (error) {\n",
              "        console.error('Error during call to suggestCharts:', error);\n",
              "      }\n",
              "      quickchartButtonEl.classList.remove('colab-df-spinner');\n",
              "      quickchartButtonEl.classList.add('colab-df-quickchart-complete');\n",
              "    }\n",
              "    (() => {\n",
              "      let quickchartButtonEl =\n",
              "        document.querySelector('#df-0270d424-f48d-48d7-923d-f4ce3ab3617c button');\n",
              "      quickchartButtonEl.style.display =\n",
              "        google.colab.kernel.accessAllowed ? 'block' : 'none';\n",
              "    })();\n",
              "  </script>\n",
              "</div>\n",
              "\n",
              "    </div>\n",
              "  </div>\n"
            ]
          },
          "metadata": {},
          "execution_count": 19
        }
      ]
    },
    {
      "cell_type": "code",
      "source": [
        "for x in doc2.index:\n",
        "  if doc2.loc[x,\"rating\"]==-1.0:\n",
        "    doc2.loc[x,\"rating\"]=1.0\n",
        "doc2.loc[26,'rating']=round(doc2['rating'].mean(),1)\n",
        "doc2['rating']"
      ],
      "metadata": {
        "colab": {
          "base_uri": "https://localhost:8080/"
        },
        "id": "lcc2gegUTaUM",
        "outputId": "eb44b0f9-34fd-49ee-ad97-d6b381d57001"
      },
      "execution_count": 20,
      "outputs": [
        {
          "output_type": "execute_result",
          "data": {
            "text/plain": [
              "0     5.4\n",
              "1     3.5\n",
              "2     1.0\n",
              "3     4.4\n",
              "4     6.4\n",
              "5     1.4\n",
              "6     0.0\n",
              "7     1.0\n",
              "8     5.4\n",
              "9     7.7\n",
              "10    5.4\n",
              "11    6.7\n",
              "12    0.0\n",
              "13    1.0\n",
              "14    4.0\n",
              "15    3.0\n",
              "16    4.5\n",
              "17    5.3\n",
              "18    6.7\n",
              "19    3.3\n",
              "20    5.7\n",
              "21    5.0\n",
              "22    7.8\n",
              "23    2.4\n",
              "24    1.0\n",
              "25    0.0\n",
              "26    3.8\n",
              "27    5.4\n",
              "28    3.4\n",
              "Name: rating, dtype: float64"
            ]
          },
          "metadata": {},
          "execution_count": 20
        }
      ]
    },
    {
      "cell_type": "markdown",
      "source": [
        "As Rating can't be in negative as it ranges from 0 to 10."
      ],
      "metadata": {
        "id": "N0-OFR0sG8bZ"
      }
    },
    {
      "cell_type": "code",
      "source": [
        "doc2['rating'].max()"
      ],
      "metadata": {
        "colab": {
          "base_uri": "https://localhost:8080/"
        },
        "id": "iu3Lc1SIHGJ8",
        "outputId": "990f6741-7b7e-4387-a448-d8ebcd52b68b"
      },
      "execution_count": 21,
      "outputs": [
        {
          "output_type": "execute_result",
          "data": {
            "text/plain": [
              "7.8"
            ]
          },
          "metadata": {},
          "execution_count": 21
        }
      ]
    },
    {
      "cell_type": "markdown",
      "source": [
        "As the locations are mentioned as country thus abv is not important."
      ],
      "metadata": {
        "id": "C85IVtDMIFo9"
      }
    },
    {
      "cell_type": "code",
      "source": [
        "for y in doc2.index:\n",
        "  if doc2.loc[y,'location']=='India,In':\n",
        "    doc2.loc[y,'location']='India'\n",
        "  elif doc2.loc[y,'location']=='New York,Ny':\n",
        "    doc2.loc[y,'location']='New York'\n",
        "  else:\n",
        "    doc2.loc[y,'location']='Australia'\n",
        "doc2['location']"
      ],
      "metadata": {
        "colab": {
          "base_uri": "https://localhost:8080/"
        },
        "id": "7m7HRZMTdLyH",
        "outputId": "37234c13-d144-4743-ce11-18d4c34bbb75"
      },
      "execution_count": 22,
      "outputs": [
        {
          "output_type": "execute_result",
          "data": {
            "text/plain": [
              "0         India\n",
              "1      New York\n",
              "2      New York\n",
              "3     Australia\n",
              "4     Australia\n",
              "5         India\n",
              "6      New York\n",
              "7     Australia\n",
              "8      New York\n",
              "9         India\n",
              "10        India\n",
              "11        India\n",
              "12        India\n",
              "13    Australia\n",
              "14    Australia\n",
              "15    Australia\n",
              "16        India\n",
              "17     New York\n",
              "18     New York\n",
              "19     New York\n",
              "20     New York\n",
              "21     New York\n",
              "22     New York\n",
              "23     New York\n",
              "24     New York\n",
              "25    Australia\n",
              "26        India\n",
              "27        India\n",
              "28    Australia\n",
              "Name: location, dtype: object"
            ]
          },
          "metadata": {},
          "execution_count": 22
        }
      ]
    },
    {
      "cell_type": "code",
      "source": [
        "print(doc2['established'].skew())"
      ],
      "metadata": {
        "colab": {
          "base_uri": "https://localhost:8080/"
        },
        "id": "Emx8QAPkJreu",
        "outputId": "62dec3a2-ac39-4494-85cf-ffe8afa0d254"
      },
      "execution_count": null,
      "outputs": [
        {
          "output_type": "stream",
          "name": "stdout",
          "text": [
            "-0.8061295694835467\n"
          ]
        }
      ]
    },
    {
      "cell_type": "markdown",
      "source": [
        "As the data set is skewed towards left. Thus using the most frequent year to replace the null value. To not change the shape of the data."
      ],
      "metadata": {
        "id": "VeORTEubKNsL"
      }
    },
    {
      "cell_type": "code",
      "source": [
        "freq_year = doc2['established'].mode()"
      ],
      "metadata": {
        "id": "9_Pbimiust6R"
      },
      "execution_count": 23,
      "outputs": []
    },
    {
      "cell_type": "code",
      "source": [
        "doc2['established']"
      ],
      "metadata": {
        "colab": {
          "base_uri": "https://localhost:8080/"
        },
        "id": "dZV6aSq0iLaK",
        "outputId": "98a41e85-a0f3-462c-e257-0ae5c3e0580e"
      },
      "execution_count": 24,
      "outputs": [
        {
          "output_type": "execute_result",
          "data": {
            "text/plain": [
              "0     1999\n",
              "1     2002\n",
              "2       -1\n",
              "3     1988\n",
              "4     2002\n",
              "5     1999\n",
              "6       -1\n",
              "7       -1\n",
              "8       -1\n",
              "9       -1\n",
              "10    2008\n",
              "11    2009\n",
              "12    1999\n",
              "13    2019\n",
              "14    2020\n",
              "15    1999\n",
              "16    1984\n",
              "17    1943\n",
              "18    1954\n",
              "19    1955\n",
              "20    1944\n",
              "21    1946\n",
              "22    1988\n",
              "23    1999\n",
              "24    1987\n",
              "25    1980\n",
              "26    1934\n",
              "27    1935\n",
              "28    1932\n",
              "Name: established, dtype: int64"
            ]
          },
          "metadata": {},
          "execution_count": 24
        }
      ]
    },
    {
      "cell_type": "code",
      "source": [
        "for x in doc2.index:\n",
        "  if doc2.loc[x,'established']==-1:\n",
        "    doc2.loc[x,'established']=\"Unknown\"\n",
        "doc2['established']"
      ],
      "metadata": {
        "colab": {
          "base_uri": "https://localhost:8080/"
        },
        "id": "ukGu3yKJdXUQ",
        "outputId": "f500a841-1292-4f1a-b6e5-5ac8b3a6c08a"
      },
      "execution_count": 25,
      "outputs": [
        {
          "output_type": "execute_result",
          "data": {
            "text/plain": [
              "0        1999\n",
              "1        2002\n",
              "2     Unknown\n",
              "3        1988\n",
              "4        2002\n",
              "5        1999\n",
              "6     Unknown\n",
              "7     Unknown\n",
              "8     Unknown\n",
              "9     Unknown\n",
              "10       2008\n",
              "11       2009\n",
              "12       1999\n",
              "13       2019\n",
              "14       2020\n",
              "15       1999\n",
              "16       1984\n",
              "17       1943\n",
              "18       1954\n",
              "19       1955\n",
              "20       1944\n",
              "21       1946\n",
              "22       1988\n",
              "23       1999\n",
              "24       1987\n",
              "25       1980\n",
              "26       1934\n",
              "27       1935\n",
              "28       1932\n",
              "Name: established, dtype: object"
            ]
          },
          "metadata": {},
          "execution_count": 25
        }
      ]
    },
    {
      "cell_type": "code",
      "source": [
        "for z in doc2.index:\n",
        "  if doc2.loc[z,'easy_apply']=='-1':\n",
        "    doc2.loc[z,'easy_apply']='False'\n",
        "  else:\n",
        "    doc2.loc[z,'easy_apply']='True'"
      ],
      "metadata": {
        "id": "SKvWZUh01Nou"
      },
      "execution_count": 26,
      "outputs": []
    },
    {
      "cell_type": "code",
      "source": [
        "doc2['easy_apply']"
      ],
      "metadata": {
        "colab": {
          "base_uri": "https://localhost:8080/"
        },
        "id": "u8y5oIhn5Hq4",
        "outputId": "3600c9e5-3a12-4c40-b52c-8dd8b39648cd"
      },
      "execution_count": 27,
      "outputs": [
        {
          "output_type": "execute_result",
          "data": {
            "text/plain": [
              "0      True\n",
              "1      True\n",
              "2     False\n",
              "3     False\n",
              "4     False\n",
              "5      True\n",
              "6     False\n",
              "7     False\n",
              "8     False\n",
              "9      True\n",
              "10     True\n",
              "11    False\n",
              "12    False\n",
              "13     True\n",
              "14     True\n",
              "15    False\n",
              "16    False\n",
              "17     True\n",
              "18     True\n",
              "19     True\n",
              "20     True\n",
              "21    False\n",
              "22     True\n",
              "23     True\n",
              "24    False\n",
              "25     True\n",
              "26     True\n",
              "27    False\n",
              "28    False\n",
              "Name: easy_apply, dtype: object"
            ]
          },
          "metadata": {},
          "execution_count": 27
        }
      ]
    },
    {
      "cell_type": "code",
      "source": [
        "print(doc2)"
      ],
      "metadata": {
        "colab": {
          "base_uri": "https://localhost:8080/"
        },
        "id": "itIb_LU949KH",
        "outputId": "06a67520-a4ad-4d2f-d182-604cb8fc9ae7"
      },
      "execution_count": 28,
      "outputs": [
        {
          "output_type": "stream",
          "name": "stdout",
          "text": [
            "    age     salary_range  rating   location established easy_apply salary_low  \\\n",
            "0    44    44000 - 99000     5.4      India        1999       True      44000   \n",
            "1    66    55000 - 66000     3.5   New York        2002       True      55000   \n",
            "2    39    77000 - 89000     1.0   New York     Unknown      False      77000   \n",
            "3    64    44000 - 99000     4.4  Australia        1988      False      44000   \n",
            "4    25    44000 - 99000     6.4  Australia        2002      False      44000   \n",
            "5    44    77000 - 89000     1.4      India        1999       True      77000   \n",
            "6    21    44000 - 99000     0.0   New York     Unknown      False      44000   \n",
            "7    44    44000 - 99000     1.0  Australia     Unknown      False      44000   \n",
            "8    35    44000 - 99000     5.4   New York     Unknown      False      44000   \n",
            "9    22    44000 - 99000     7.7      India     Unknown       True      44000   \n",
            "10   55    10000 - 49000     5.4      India        2008       True      10000   \n",
            "11   44    10000 - 49000     6.7      India        2009      False      10000   \n",
            "12   39    44000 - 99000     0.0      India        1999      False      44000   \n",
            "13   25    44000 - 99000     1.0  Australia        2019       True      44000   \n",
            "14   66    44000 - 99000     4.0  Australia        2020       True      44000   \n",
            "15   44   88000 - 101000     3.0  Australia        1999      False      88000   \n",
            "16   19    19000 - 40000     4.5      India        1984      False      19000   \n",
            "17   39    44000 - 99000     5.3   New York        1943       True      44000   \n",
            "18   35    44000 - 99000     6.7   New York        1954       True      44000   \n",
            "19   32    44000 - 99000     3.3   New York        1955       True      44000   \n",
            "20   39    44000 - 99000     5.7   New York        1944       True      44000   \n",
            "21   35    44000 - 99000     5.0   New York        1946      False      44000   \n",
            "22   19    55000 - 66000     7.8   New York        1988       True      55000   \n",
            "23   39    44000 - 99000     2.4   New York        1999       True      44000   \n",
            "24   13    44000 - 99000     1.0   New York        1987      False      44000   \n",
            "25   55    44000 - 99000     0.0  Australia        1980       True      44000   \n",
            "26   39    55000 - 66000     3.8      India        1934       True      55000   \n",
            "27   52    44000 - 99000     5.4      India        1935      False      44000   \n",
            "28   39    39000 - 88000     3.4  Australia        1932      False      39000   \n",
            "\n",
            "   salary_high  \n",
            "0        99000  \n",
            "1        66000  \n",
            "2        89000  \n",
            "3        99000  \n",
            "4        99000  \n",
            "5        89000  \n",
            "6        99000  \n",
            "7        99000  \n",
            "8        99000  \n",
            "9        99000  \n",
            "10       49000  \n",
            "11       49000  \n",
            "12       99000  \n",
            "13       99000  \n",
            "14       99000  \n",
            "15      101000  \n",
            "16       40000  \n",
            "17       99000  \n",
            "18       99000  \n",
            "19       99000  \n",
            "20       99000  \n",
            "21       99000  \n",
            "22       66000  \n",
            "23       99000  \n",
            "24       99000  \n",
            "25       99000  \n",
            "26       66000  \n",
            "27       99000  \n",
            "28       88000  \n"
          ]
        }
      ]
    },
    {
      "cell_type": "markdown",
      "source": [
        "Hence the data is cleaned!"
      ],
      "metadata": {
        "id": "OlUtp7mL8o4K"
      }
    },
    {
      "cell_type": "markdown",
      "source": [
        "#Q&A"
      ],
      "metadata": {
        "id": "EtUbEYvRjt1x"
      }
    },
    {
      "cell_type": "markdown",
      "source": [
        "###Question: Are there any missing values in the dataset, and if so, how should they be handled for each indicator?"
      ],
      "metadata": {
        "id": "zH1Wd3TTjyJE"
      }
    },
    {
      "cell_type": "code",
      "source": [
        "print(doc.isnull())"
      ],
      "metadata": {
        "colab": {
          "base_uri": "https://localhost:8080/"
        },
        "id": "GtOr_BMLklHA",
        "outputId": "16b936e2-282f-470f-d57f-40aafafa8442"
      },
      "execution_count": 29,
      "outputs": [
        {
          "output_type": "stream",
          "name": "stdout",
          "text": [
            "    index    age  salary  rating  location  established  easy_apply\n",
            "0   False  False   False   False     False        False       False\n",
            "1   False  False   False   False     False        False       False\n",
            "2   False   True   False   False     False        False       False\n",
            "3   False  False   False   False     False        False       False\n",
            "4   False  False   False   False     False        False       False\n",
            "5   False  False   False   False     False        False       False\n",
            "6   False  False   False   False     False        False       False\n",
            "7   False  False   False   False     False        False       False\n",
            "8   False  False   False   False     False        False       False\n",
            "9   False  False   False   False     False        False       False\n",
            "10  False  False   False   False     False        False       False\n",
            "11  False  False   False   False     False        False       False\n",
            "12  False   True   False   False     False        False       False\n",
            "13  False  False   False   False     False        False       False\n",
            "14  False  False   False   False     False        False       False\n",
            "15  False  False   False   False     False        False       False\n",
            "16  False  False   False   False     False        False       False\n",
            "17  False   True   False   False     False        False       False\n",
            "18  False  False   False   False     False        False       False\n",
            "19  False  False   False   False     False        False       False\n",
            "20  False   True   False   False     False        False       False\n",
            "21  False  False   False   False     False        False       False\n",
            "22  False  False   False   False     False        False       False\n",
            "23  False   True   False   False     False        False       False\n",
            "24  False  False   False   False     False        False       False\n",
            "25  False  False   False   False     False        False       False\n",
            "26  False   True   False    True     False        False       False\n",
            "27  False  False   False   False     False        False       False\n",
            "28  False   True   False   False     False        False       False\n"
          ]
        }
      ]
    },
    {
      "cell_type": "markdown",
      "source": [
        "So for all the true values, the data is missing. Depending on the indicators(columns) one can either replace data by central tendencies. As the data set is small, dropping the rows with missing data might not be a good way to proceed."
      ],
      "metadata": {
        "id": "wIN2gj6Skto8"
      }
    },
    {
      "cell_type": "markdown",
      "source": [
        "###Question: What are the data types of each indicator, and do they align with their expected types (e.g., numerical, categorical)?"
      ],
      "metadata": {
        "id": "gS5B33pilzgA"
      }
    },
    {
      "cell_type": "code",
      "source": [
        "doc.dtypes\n",
        "doc2.dtypes"
      ],
      "metadata": {
        "colab": {
          "base_uri": "https://localhost:8080/"
        },
        "id": "mucW8fqBl4z8",
        "outputId": "11e5d2b4-acfe-4099-be92-1885673ca3af"
      },
      "execution_count": 31,
      "outputs": [
        {
          "output_type": "execute_result",
          "data": {
            "text/plain": [
              "age               int64\n",
              "salary_range     object\n",
              "rating          float64\n",
              "location         object\n",
              "established      object\n",
              "easy_apply       object\n",
              "salary_low       object\n",
              "salary_high      object\n",
              "dtype: object"
            ]
          },
          "metadata": {},
          "execution_count": 31
        }
      ]
    },
    {
      "cell_type": "markdown",
      "source": [
        "Age, Rating, Year of Establish are numerial(float/int). Salary is Categorical and Easy Apply is Boolean."
      ],
      "metadata": {
        "id": "fMdtu23gmDeY"
      }
    },
    {
      "cell_type": "markdown",
      "source": [
        "###Question: Identify potential outliers in numerical indicators (e.g., Age, Salary, Rating). Should outliers be removed or adjusted?"
      ],
      "metadata": {
        "id": "6EoJs4m8nQx0"
      }
    },
    {
      "cell_type": "markdown",
      "source": [
        "No there were no Outliers in any indicators."
      ],
      "metadata": {
        "id": "MTw_OMSmnWbZ"
      }
    },
    {
      "cell_type": "markdown",
      "source": [
        "#**Part-2**\n",
        "\n",
        "\n"
      ],
      "metadata": {
        "id": "h47rOqfApeSf"
      }
    },
    {
      "cell_type": "markdown",
      "source": [
        "#Importing the TSV file"
      ],
      "metadata": {
        "id": "HXy2K1DYcQmn"
      }
    },
    {
      "cell_type": "code",
      "source": [
        "doc_path = \"/content/gdrive/My Drive/python_docs/chipotle.tsv\"\n",
        "chip = pd.read_csv(doc_path,sep='\\t')\n",
        "chip.head(5)"
      ],
      "metadata": {
        "colab": {
          "base_uri": "https://localhost:8080/",
          "height": 206
        },
        "id": "DL_JnuLApapM",
        "outputId": "2a3eec3d-7fbf-41f0-e4d4-329dc9aeeac5"
      },
      "execution_count": null,
      "outputs": [
        {
          "output_type": "execute_result",
          "data": {
            "text/plain": [
              "   order_id  quantity                              item_name  \\\n",
              "0         1         1           Chips and Fresh Tomato Salsa   \n",
              "1         1         1                                   Izze   \n",
              "2         1         1                       Nantucket Nectar   \n",
              "3         1         1  Chips and Tomatillo-Green Chili Salsa   \n",
              "4         2         2                           Chicken Bowl   \n",
              "\n",
              "                                  choice_description item_price  \n",
              "0                                                NaN     $2.39   \n",
              "1                                       [Clementine]     $3.39   \n",
              "2                                            [Apple]     $3.39   \n",
              "3                                                NaN     $2.39   \n",
              "4  [Tomatillo-Red Chili Salsa (Hot), [Black Beans...    $16.98   "
            ],
            "text/html": [
              "\n",
              "  <div id=\"df-245cb6a7-852f-4d42-88c7-3c65b4e5a17f\" class=\"colab-df-container\">\n",
              "    <div>\n",
              "<style scoped>\n",
              "    .dataframe tbody tr th:only-of-type {\n",
              "        vertical-align: middle;\n",
              "    }\n",
              "\n",
              "    .dataframe tbody tr th {\n",
              "        vertical-align: top;\n",
              "    }\n",
              "\n",
              "    .dataframe thead th {\n",
              "        text-align: right;\n",
              "    }\n",
              "</style>\n",
              "<table border=\"1\" class=\"dataframe\">\n",
              "  <thead>\n",
              "    <tr style=\"text-align: right;\">\n",
              "      <th></th>\n",
              "      <th>order_id</th>\n",
              "      <th>quantity</th>\n",
              "      <th>item_name</th>\n",
              "      <th>choice_description</th>\n",
              "      <th>item_price</th>\n",
              "    </tr>\n",
              "  </thead>\n",
              "  <tbody>\n",
              "    <tr>\n",
              "      <th>0</th>\n",
              "      <td>1</td>\n",
              "      <td>1</td>\n",
              "      <td>Chips and Fresh Tomato Salsa</td>\n",
              "      <td>NaN</td>\n",
              "      <td>$2.39</td>\n",
              "    </tr>\n",
              "    <tr>\n",
              "      <th>1</th>\n",
              "      <td>1</td>\n",
              "      <td>1</td>\n",
              "      <td>Izze</td>\n",
              "      <td>[Clementine]</td>\n",
              "      <td>$3.39</td>\n",
              "    </tr>\n",
              "    <tr>\n",
              "      <th>2</th>\n",
              "      <td>1</td>\n",
              "      <td>1</td>\n",
              "      <td>Nantucket Nectar</td>\n",
              "      <td>[Apple]</td>\n",
              "      <td>$3.39</td>\n",
              "    </tr>\n",
              "    <tr>\n",
              "      <th>3</th>\n",
              "      <td>1</td>\n",
              "      <td>1</td>\n",
              "      <td>Chips and Tomatillo-Green Chili Salsa</td>\n",
              "      <td>NaN</td>\n",
              "      <td>$2.39</td>\n",
              "    </tr>\n",
              "    <tr>\n",
              "      <th>4</th>\n",
              "      <td>2</td>\n",
              "      <td>2</td>\n",
              "      <td>Chicken Bowl</td>\n",
              "      <td>[Tomatillo-Red Chili Salsa (Hot), [Black Beans...</td>\n",
              "      <td>$16.98</td>\n",
              "    </tr>\n",
              "  </tbody>\n",
              "</table>\n",
              "</div>\n",
              "    <div class=\"colab-df-buttons\">\n",
              "\n",
              "  <div class=\"colab-df-container\">\n",
              "    <button class=\"colab-df-convert\" onclick=\"convertToInteractive('df-245cb6a7-852f-4d42-88c7-3c65b4e5a17f')\"\n",
              "            title=\"Convert this dataframe to an interactive table.\"\n",
              "            style=\"display:none;\">\n",
              "\n",
              "  <svg xmlns=\"http://www.w3.org/2000/svg\" height=\"24px\" viewBox=\"0 -960 960 960\">\n",
              "    <path d=\"M120-120v-720h720v720H120Zm60-500h600v-160H180v160Zm220 220h160v-160H400v160Zm0 220h160v-160H400v160ZM180-400h160v-160H180v160Zm440 0h160v-160H620v160ZM180-180h160v-160H180v160Zm440 0h160v-160H620v160Z\"/>\n",
              "  </svg>\n",
              "    </button>\n",
              "\n",
              "  <style>\n",
              "    .colab-df-container {\n",
              "      display:flex;\n",
              "      gap: 12px;\n",
              "    }\n",
              "\n",
              "    .colab-df-convert {\n",
              "      background-color: #E8F0FE;\n",
              "      border: none;\n",
              "      border-radius: 50%;\n",
              "      cursor: pointer;\n",
              "      display: none;\n",
              "      fill: #1967D2;\n",
              "      height: 32px;\n",
              "      padding: 0 0 0 0;\n",
              "      width: 32px;\n",
              "    }\n",
              "\n",
              "    .colab-df-convert:hover {\n",
              "      background-color: #E2EBFA;\n",
              "      box-shadow: 0px 1px 2px rgba(60, 64, 67, 0.3), 0px 1px 3px 1px rgba(60, 64, 67, 0.15);\n",
              "      fill: #174EA6;\n",
              "    }\n",
              "\n",
              "    .colab-df-buttons div {\n",
              "      margin-bottom: 4px;\n",
              "    }\n",
              "\n",
              "    [theme=dark] .colab-df-convert {\n",
              "      background-color: #3B4455;\n",
              "      fill: #D2E3FC;\n",
              "    }\n",
              "\n",
              "    [theme=dark] .colab-df-convert:hover {\n",
              "      background-color: #434B5C;\n",
              "      box-shadow: 0px 1px 3px 1px rgba(0, 0, 0, 0.15);\n",
              "      filter: drop-shadow(0px 1px 2px rgba(0, 0, 0, 0.3));\n",
              "      fill: #FFFFFF;\n",
              "    }\n",
              "  </style>\n",
              "\n",
              "    <script>\n",
              "      const buttonEl =\n",
              "        document.querySelector('#df-245cb6a7-852f-4d42-88c7-3c65b4e5a17f button.colab-df-convert');\n",
              "      buttonEl.style.display =\n",
              "        google.colab.kernel.accessAllowed ? 'block' : 'none';\n",
              "\n",
              "      async function convertToInteractive(key) {\n",
              "        const element = document.querySelector('#df-245cb6a7-852f-4d42-88c7-3c65b4e5a17f');\n",
              "        const dataTable =\n",
              "          await google.colab.kernel.invokeFunction('convertToInteractive',\n",
              "                                                    [key], {});\n",
              "        if (!dataTable) return;\n",
              "\n",
              "        const docLinkHtml = 'Like what you see? Visit the ' +\n",
              "          '<a target=\"_blank\" href=https://colab.research.google.com/notebooks/data_table.ipynb>data table notebook</a>'\n",
              "          + ' to learn more about interactive tables.';\n",
              "        element.innerHTML = '';\n",
              "        dataTable['output_type'] = 'display_data';\n",
              "        await google.colab.output.renderOutput(dataTable, element);\n",
              "        const docLink = document.createElement('div');\n",
              "        docLink.innerHTML = docLinkHtml;\n",
              "        element.appendChild(docLink);\n",
              "      }\n",
              "    </script>\n",
              "  </div>\n",
              "\n",
              "\n",
              "<div id=\"df-e66c412c-a487-4680-8841-0f3ae0c33a62\">\n",
              "  <button class=\"colab-df-quickchart\" onclick=\"quickchart('df-e66c412c-a487-4680-8841-0f3ae0c33a62')\"\n",
              "            title=\"Suggest charts\"\n",
              "            style=\"display:none;\">\n",
              "\n",
              "<svg xmlns=\"http://www.w3.org/2000/svg\" height=\"24px\"viewBox=\"0 0 24 24\"\n",
              "     width=\"24px\">\n",
              "    <g>\n",
              "        <path d=\"M19 3H5c-1.1 0-2 .9-2 2v14c0 1.1.9 2 2 2h14c1.1 0 2-.9 2-2V5c0-1.1-.9-2-2-2zM9 17H7v-7h2v7zm4 0h-2V7h2v10zm4 0h-2v-4h2v4z\"/>\n",
              "    </g>\n",
              "</svg>\n",
              "  </button>\n",
              "\n",
              "<style>\n",
              "  .colab-df-quickchart {\n",
              "      --bg-color: #E8F0FE;\n",
              "      --fill-color: #1967D2;\n",
              "      --hover-bg-color: #E2EBFA;\n",
              "      --hover-fill-color: #174EA6;\n",
              "      --disabled-fill-color: #AAA;\n",
              "      --disabled-bg-color: #DDD;\n",
              "  }\n",
              "\n",
              "  [theme=dark] .colab-df-quickchart {\n",
              "      --bg-color: #3B4455;\n",
              "      --fill-color: #D2E3FC;\n",
              "      --hover-bg-color: #434B5C;\n",
              "      --hover-fill-color: #FFFFFF;\n",
              "      --disabled-bg-color: #3B4455;\n",
              "      --disabled-fill-color: #666;\n",
              "  }\n",
              "\n",
              "  .colab-df-quickchart {\n",
              "    background-color: var(--bg-color);\n",
              "    border: none;\n",
              "    border-radius: 50%;\n",
              "    cursor: pointer;\n",
              "    display: none;\n",
              "    fill: var(--fill-color);\n",
              "    height: 32px;\n",
              "    padding: 0;\n",
              "    width: 32px;\n",
              "  }\n",
              "\n",
              "  .colab-df-quickchart:hover {\n",
              "    background-color: var(--hover-bg-color);\n",
              "    box-shadow: 0 1px 2px rgba(60, 64, 67, 0.3), 0 1px 3px 1px rgba(60, 64, 67, 0.15);\n",
              "    fill: var(--button-hover-fill-color);\n",
              "  }\n",
              "\n",
              "  .colab-df-quickchart-complete:disabled,\n",
              "  .colab-df-quickchart-complete:disabled:hover {\n",
              "    background-color: var(--disabled-bg-color);\n",
              "    fill: var(--disabled-fill-color);\n",
              "    box-shadow: none;\n",
              "  }\n",
              "\n",
              "  .colab-df-spinner {\n",
              "    border: 2px solid var(--fill-color);\n",
              "    border-color: transparent;\n",
              "    border-bottom-color: var(--fill-color);\n",
              "    animation:\n",
              "      spin 1s steps(1) infinite;\n",
              "  }\n",
              "\n",
              "  @keyframes spin {\n",
              "    0% {\n",
              "      border-color: transparent;\n",
              "      border-bottom-color: var(--fill-color);\n",
              "      border-left-color: var(--fill-color);\n",
              "    }\n",
              "    20% {\n",
              "      border-color: transparent;\n",
              "      border-left-color: var(--fill-color);\n",
              "      border-top-color: var(--fill-color);\n",
              "    }\n",
              "    30% {\n",
              "      border-color: transparent;\n",
              "      border-left-color: var(--fill-color);\n",
              "      border-top-color: var(--fill-color);\n",
              "      border-right-color: var(--fill-color);\n",
              "    }\n",
              "    40% {\n",
              "      border-color: transparent;\n",
              "      border-right-color: var(--fill-color);\n",
              "      border-top-color: var(--fill-color);\n",
              "    }\n",
              "    60% {\n",
              "      border-color: transparent;\n",
              "      border-right-color: var(--fill-color);\n",
              "    }\n",
              "    80% {\n",
              "      border-color: transparent;\n",
              "      border-right-color: var(--fill-color);\n",
              "      border-bottom-color: var(--fill-color);\n",
              "    }\n",
              "    90% {\n",
              "      border-color: transparent;\n",
              "      border-bottom-color: var(--fill-color);\n",
              "    }\n",
              "  }\n",
              "</style>\n",
              "\n",
              "  <script>\n",
              "    async function quickchart(key) {\n",
              "      const quickchartButtonEl =\n",
              "        document.querySelector('#' + key + ' button');\n",
              "      quickchartButtonEl.disabled = true;  // To prevent multiple clicks.\n",
              "      quickchartButtonEl.classList.add('colab-df-spinner');\n",
              "      try {\n",
              "        const charts = await google.colab.kernel.invokeFunction(\n",
              "            'suggestCharts', [key], {});\n",
              "      } catch (error) {\n",
              "        console.error('Error during call to suggestCharts:', error);\n",
              "      }\n",
              "      quickchartButtonEl.classList.remove('colab-df-spinner');\n",
              "      quickchartButtonEl.classList.add('colab-df-quickchart-complete');\n",
              "    }\n",
              "    (() => {\n",
              "      let quickchartButtonEl =\n",
              "        document.querySelector('#df-e66c412c-a487-4680-8841-0f3ae0c33a62 button');\n",
              "      quickchartButtonEl.style.display =\n",
              "        google.colab.kernel.accessAllowed ? 'block' : 'none';\n",
              "    })();\n",
              "  </script>\n",
              "</div>\n",
              "\n",
              "    </div>\n",
              "  </div>\n"
            ]
          },
          "metadata": {},
          "execution_count": 2
        }
      ]
    },
    {
      "cell_type": "code",
      "source": [
        "chip.tail(10)"
      ],
      "metadata": {
        "colab": {
          "base_uri": "https://localhost:8080/",
          "height": 363
        },
        "id": "EPsxaTKIasuB",
        "outputId": "0895526e-a16a-4295-9ca0-ff8331d5e289"
      },
      "execution_count": null,
      "outputs": [
        {
          "output_type": "execute_result",
          "data": {
            "text/plain": [
              "      order_id  quantity            item_name  \\\n",
              "4612      1831         1        Carnitas Bowl   \n",
              "4613      1831         1                Chips   \n",
              "4614      1831         1        Bottled Water   \n",
              "4615      1832         1   Chicken Soft Tacos   \n",
              "4616      1832         1  Chips and Guacamole   \n",
              "4617      1833         1        Steak Burrito   \n",
              "4618      1833         1        Steak Burrito   \n",
              "4619      1834         1   Chicken Salad Bowl   \n",
              "4620      1834         1   Chicken Salad Bowl   \n",
              "4621      1834         1   Chicken Salad Bowl   \n",
              "\n",
              "                                     choice_description item_price  \n",
              "4612  [Fresh Tomato Salsa, [Fajita Vegetables, Rice,...     $9.25   \n",
              "4613                                                NaN     $2.15   \n",
              "4614                                                NaN     $1.50   \n",
              "4615   [Fresh Tomato Salsa, [Rice, Cheese, Sour Cream]]     $8.75   \n",
              "4616                                                NaN     $4.45   \n",
              "4617  [Fresh Tomato Salsa, [Rice, Black Beans, Sour ...    $11.75   \n",
              "4618  [Fresh Tomato Salsa, [Rice, Sour Cream, Cheese...    $11.75   \n",
              "4619  [Fresh Tomato Salsa, [Fajita Vegetables, Pinto...    $11.25   \n",
              "4620  [Fresh Tomato Salsa, [Fajita Vegetables, Lettu...     $8.75   \n",
              "4621  [Fresh Tomato Salsa, [Fajita Vegetables, Pinto...     $8.75   "
            ],
            "text/html": [
              "\n",
              "  <div id=\"df-cd87d86d-4fd1-4848-95a0-329408848801\" class=\"colab-df-container\">\n",
              "    <div>\n",
              "<style scoped>\n",
              "    .dataframe tbody tr th:only-of-type {\n",
              "        vertical-align: middle;\n",
              "    }\n",
              "\n",
              "    .dataframe tbody tr th {\n",
              "        vertical-align: top;\n",
              "    }\n",
              "\n",
              "    .dataframe thead th {\n",
              "        text-align: right;\n",
              "    }\n",
              "</style>\n",
              "<table border=\"1\" class=\"dataframe\">\n",
              "  <thead>\n",
              "    <tr style=\"text-align: right;\">\n",
              "      <th></th>\n",
              "      <th>order_id</th>\n",
              "      <th>quantity</th>\n",
              "      <th>item_name</th>\n",
              "      <th>choice_description</th>\n",
              "      <th>item_price</th>\n",
              "    </tr>\n",
              "  </thead>\n",
              "  <tbody>\n",
              "    <tr>\n",
              "      <th>4612</th>\n",
              "      <td>1831</td>\n",
              "      <td>1</td>\n",
              "      <td>Carnitas Bowl</td>\n",
              "      <td>[Fresh Tomato Salsa, [Fajita Vegetables, Rice,...</td>\n",
              "      <td>$9.25</td>\n",
              "    </tr>\n",
              "    <tr>\n",
              "      <th>4613</th>\n",
              "      <td>1831</td>\n",
              "      <td>1</td>\n",
              "      <td>Chips</td>\n",
              "      <td>NaN</td>\n",
              "      <td>$2.15</td>\n",
              "    </tr>\n",
              "    <tr>\n",
              "      <th>4614</th>\n",
              "      <td>1831</td>\n",
              "      <td>1</td>\n",
              "      <td>Bottled Water</td>\n",
              "      <td>NaN</td>\n",
              "      <td>$1.50</td>\n",
              "    </tr>\n",
              "    <tr>\n",
              "      <th>4615</th>\n",
              "      <td>1832</td>\n",
              "      <td>1</td>\n",
              "      <td>Chicken Soft Tacos</td>\n",
              "      <td>[Fresh Tomato Salsa, [Rice, Cheese, Sour Cream]]</td>\n",
              "      <td>$8.75</td>\n",
              "    </tr>\n",
              "    <tr>\n",
              "      <th>4616</th>\n",
              "      <td>1832</td>\n",
              "      <td>1</td>\n",
              "      <td>Chips and Guacamole</td>\n",
              "      <td>NaN</td>\n",
              "      <td>$4.45</td>\n",
              "    </tr>\n",
              "    <tr>\n",
              "      <th>4617</th>\n",
              "      <td>1833</td>\n",
              "      <td>1</td>\n",
              "      <td>Steak Burrito</td>\n",
              "      <td>[Fresh Tomato Salsa, [Rice, Black Beans, Sour ...</td>\n",
              "      <td>$11.75</td>\n",
              "    </tr>\n",
              "    <tr>\n",
              "      <th>4618</th>\n",
              "      <td>1833</td>\n",
              "      <td>1</td>\n",
              "      <td>Steak Burrito</td>\n",
              "      <td>[Fresh Tomato Salsa, [Rice, Sour Cream, Cheese...</td>\n",
              "      <td>$11.75</td>\n",
              "    </tr>\n",
              "    <tr>\n",
              "      <th>4619</th>\n",
              "      <td>1834</td>\n",
              "      <td>1</td>\n",
              "      <td>Chicken Salad Bowl</td>\n",
              "      <td>[Fresh Tomato Salsa, [Fajita Vegetables, Pinto...</td>\n",
              "      <td>$11.25</td>\n",
              "    </tr>\n",
              "    <tr>\n",
              "      <th>4620</th>\n",
              "      <td>1834</td>\n",
              "      <td>1</td>\n",
              "      <td>Chicken Salad Bowl</td>\n",
              "      <td>[Fresh Tomato Salsa, [Fajita Vegetables, Lettu...</td>\n",
              "      <td>$8.75</td>\n",
              "    </tr>\n",
              "    <tr>\n",
              "      <th>4621</th>\n",
              "      <td>1834</td>\n",
              "      <td>1</td>\n",
              "      <td>Chicken Salad Bowl</td>\n",
              "      <td>[Fresh Tomato Salsa, [Fajita Vegetables, Pinto...</td>\n",
              "      <td>$8.75</td>\n",
              "    </tr>\n",
              "  </tbody>\n",
              "</table>\n",
              "</div>\n",
              "    <div class=\"colab-df-buttons\">\n",
              "\n",
              "  <div class=\"colab-df-container\">\n",
              "    <button class=\"colab-df-convert\" onclick=\"convertToInteractive('df-cd87d86d-4fd1-4848-95a0-329408848801')\"\n",
              "            title=\"Convert this dataframe to an interactive table.\"\n",
              "            style=\"display:none;\">\n",
              "\n",
              "  <svg xmlns=\"http://www.w3.org/2000/svg\" height=\"24px\" viewBox=\"0 -960 960 960\">\n",
              "    <path d=\"M120-120v-720h720v720H120Zm60-500h600v-160H180v160Zm220 220h160v-160H400v160Zm0 220h160v-160H400v160ZM180-400h160v-160H180v160Zm440 0h160v-160H620v160ZM180-180h160v-160H180v160Zm440 0h160v-160H620v160Z\"/>\n",
              "  </svg>\n",
              "    </button>\n",
              "\n",
              "  <style>\n",
              "    .colab-df-container {\n",
              "      display:flex;\n",
              "      gap: 12px;\n",
              "    }\n",
              "\n",
              "    .colab-df-convert {\n",
              "      background-color: #E8F0FE;\n",
              "      border: none;\n",
              "      border-radius: 50%;\n",
              "      cursor: pointer;\n",
              "      display: none;\n",
              "      fill: #1967D2;\n",
              "      height: 32px;\n",
              "      padding: 0 0 0 0;\n",
              "      width: 32px;\n",
              "    }\n",
              "\n",
              "    .colab-df-convert:hover {\n",
              "      background-color: #E2EBFA;\n",
              "      box-shadow: 0px 1px 2px rgba(60, 64, 67, 0.3), 0px 1px 3px 1px rgba(60, 64, 67, 0.15);\n",
              "      fill: #174EA6;\n",
              "    }\n",
              "\n",
              "    .colab-df-buttons div {\n",
              "      margin-bottom: 4px;\n",
              "    }\n",
              "\n",
              "    [theme=dark] .colab-df-convert {\n",
              "      background-color: #3B4455;\n",
              "      fill: #D2E3FC;\n",
              "    }\n",
              "\n",
              "    [theme=dark] .colab-df-convert:hover {\n",
              "      background-color: #434B5C;\n",
              "      box-shadow: 0px 1px 3px 1px rgba(0, 0, 0, 0.15);\n",
              "      filter: drop-shadow(0px 1px 2px rgba(0, 0, 0, 0.3));\n",
              "      fill: #FFFFFF;\n",
              "    }\n",
              "  </style>\n",
              "\n",
              "    <script>\n",
              "      const buttonEl =\n",
              "        document.querySelector('#df-cd87d86d-4fd1-4848-95a0-329408848801 button.colab-df-convert');\n",
              "      buttonEl.style.display =\n",
              "        google.colab.kernel.accessAllowed ? 'block' : 'none';\n",
              "\n",
              "      async function convertToInteractive(key) {\n",
              "        const element = document.querySelector('#df-cd87d86d-4fd1-4848-95a0-329408848801');\n",
              "        const dataTable =\n",
              "          await google.colab.kernel.invokeFunction('convertToInteractive',\n",
              "                                                    [key], {});\n",
              "        if (!dataTable) return;\n",
              "\n",
              "        const docLinkHtml = 'Like what you see? Visit the ' +\n",
              "          '<a target=\"_blank\" href=https://colab.research.google.com/notebooks/data_table.ipynb>data table notebook</a>'\n",
              "          + ' to learn more about interactive tables.';\n",
              "        element.innerHTML = '';\n",
              "        dataTable['output_type'] = 'display_data';\n",
              "        await google.colab.output.renderOutput(dataTable, element);\n",
              "        const docLink = document.createElement('div');\n",
              "        docLink.innerHTML = docLinkHtml;\n",
              "        element.appendChild(docLink);\n",
              "      }\n",
              "    </script>\n",
              "  </div>\n",
              "\n",
              "\n",
              "<div id=\"df-c9fc64b5-066c-4e79-b8eb-f88fae5e9c43\">\n",
              "  <button class=\"colab-df-quickchart\" onclick=\"quickchart('df-c9fc64b5-066c-4e79-b8eb-f88fae5e9c43')\"\n",
              "            title=\"Suggest charts\"\n",
              "            style=\"display:none;\">\n",
              "\n",
              "<svg xmlns=\"http://www.w3.org/2000/svg\" height=\"24px\"viewBox=\"0 0 24 24\"\n",
              "     width=\"24px\">\n",
              "    <g>\n",
              "        <path d=\"M19 3H5c-1.1 0-2 .9-2 2v14c0 1.1.9 2 2 2h14c1.1 0 2-.9 2-2V5c0-1.1-.9-2-2-2zM9 17H7v-7h2v7zm4 0h-2V7h2v10zm4 0h-2v-4h2v4z\"/>\n",
              "    </g>\n",
              "</svg>\n",
              "  </button>\n",
              "\n",
              "<style>\n",
              "  .colab-df-quickchart {\n",
              "      --bg-color: #E8F0FE;\n",
              "      --fill-color: #1967D2;\n",
              "      --hover-bg-color: #E2EBFA;\n",
              "      --hover-fill-color: #174EA6;\n",
              "      --disabled-fill-color: #AAA;\n",
              "      --disabled-bg-color: #DDD;\n",
              "  }\n",
              "\n",
              "  [theme=dark] .colab-df-quickchart {\n",
              "      --bg-color: #3B4455;\n",
              "      --fill-color: #D2E3FC;\n",
              "      --hover-bg-color: #434B5C;\n",
              "      --hover-fill-color: #FFFFFF;\n",
              "      --disabled-bg-color: #3B4455;\n",
              "      --disabled-fill-color: #666;\n",
              "  }\n",
              "\n",
              "  .colab-df-quickchart {\n",
              "    background-color: var(--bg-color);\n",
              "    border: none;\n",
              "    border-radius: 50%;\n",
              "    cursor: pointer;\n",
              "    display: none;\n",
              "    fill: var(--fill-color);\n",
              "    height: 32px;\n",
              "    padding: 0;\n",
              "    width: 32px;\n",
              "  }\n",
              "\n",
              "  .colab-df-quickchart:hover {\n",
              "    background-color: var(--hover-bg-color);\n",
              "    box-shadow: 0 1px 2px rgba(60, 64, 67, 0.3), 0 1px 3px 1px rgba(60, 64, 67, 0.15);\n",
              "    fill: var(--button-hover-fill-color);\n",
              "  }\n",
              "\n",
              "  .colab-df-quickchart-complete:disabled,\n",
              "  .colab-df-quickchart-complete:disabled:hover {\n",
              "    background-color: var(--disabled-bg-color);\n",
              "    fill: var(--disabled-fill-color);\n",
              "    box-shadow: none;\n",
              "  }\n",
              "\n",
              "  .colab-df-spinner {\n",
              "    border: 2px solid var(--fill-color);\n",
              "    border-color: transparent;\n",
              "    border-bottom-color: var(--fill-color);\n",
              "    animation:\n",
              "      spin 1s steps(1) infinite;\n",
              "  }\n",
              "\n",
              "  @keyframes spin {\n",
              "    0% {\n",
              "      border-color: transparent;\n",
              "      border-bottom-color: var(--fill-color);\n",
              "      border-left-color: var(--fill-color);\n",
              "    }\n",
              "    20% {\n",
              "      border-color: transparent;\n",
              "      border-left-color: var(--fill-color);\n",
              "      border-top-color: var(--fill-color);\n",
              "    }\n",
              "    30% {\n",
              "      border-color: transparent;\n",
              "      border-left-color: var(--fill-color);\n",
              "      border-top-color: var(--fill-color);\n",
              "      border-right-color: var(--fill-color);\n",
              "    }\n",
              "    40% {\n",
              "      border-color: transparent;\n",
              "      border-right-color: var(--fill-color);\n",
              "      border-top-color: var(--fill-color);\n",
              "    }\n",
              "    60% {\n",
              "      border-color: transparent;\n",
              "      border-right-color: var(--fill-color);\n",
              "    }\n",
              "    80% {\n",
              "      border-color: transparent;\n",
              "      border-right-color: var(--fill-color);\n",
              "      border-bottom-color: var(--fill-color);\n",
              "    }\n",
              "    90% {\n",
              "      border-color: transparent;\n",
              "      border-bottom-color: var(--fill-color);\n",
              "    }\n",
              "  }\n",
              "</style>\n",
              "\n",
              "  <script>\n",
              "    async function quickchart(key) {\n",
              "      const quickchartButtonEl =\n",
              "        document.querySelector('#' + key + ' button');\n",
              "      quickchartButtonEl.disabled = true;  // To prevent multiple clicks.\n",
              "      quickchartButtonEl.classList.add('colab-df-spinner');\n",
              "      try {\n",
              "        const charts = await google.colab.kernel.invokeFunction(\n",
              "            'suggestCharts', [key], {});\n",
              "      } catch (error) {\n",
              "        console.error('Error during call to suggestCharts:', error);\n",
              "      }\n",
              "      quickchartButtonEl.classList.remove('colab-df-spinner');\n",
              "      quickchartButtonEl.classList.add('colab-df-quickchart-complete');\n",
              "    }\n",
              "    (() => {\n",
              "      let quickchartButtonEl =\n",
              "        document.querySelector('#df-c9fc64b5-066c-4e79-b8eb-f88fae5e9c43 button');\n",
              "      quickchartButtonEl.style.display =\n",
              "        google.colab.kernel.accessAllowed ? 'block' : 'none';\n",
              "    })();\n",
              "  </script>\n",
              "</div>\n",
              "\n",
              "    </div>\n",
              "  </div>\n"
            ]
          },
          "metadata": {},
          "execution_count": 3
        }
      ]
    },
    {
      "cell_type": "code",
      "source": [
        "chip.info()"
      ],
      "metadata": {
        "colab": {
          "base_uri": "https://localhost:8080/"
        },
        "id": "IzjS6DF5a0Mx",
        "outputId": "23ba29f3-816d-4d56-8441-df1598215b8f"
      },
      "execution_count": null,
      "outputs": [
        {
          "output_type": "stream",
          "name": "stdout",
          "text": [
            "<class 'pandas.core.frame.DataFrame'>\n",
            "RangeIndex: 4622 entries, 0 to 4621\n",
            "Data columns (total 5 columns):\n",
            " #   Column              Non-Null Count  Dtype  \n",
            "---  ------              --------------  -----  \n",
            " 0   order_id            4622 non-null   int64  \n",
            " 1   quantity            4622 non-null   int64  \n",
            " 2   item_name           4622 non-null   object \n",
            " 3   choice_description  3376 non-null   object \n",
            " 4   item_price          4622 non-null   float64\n",
            "dtypes: float64(1), int64(2), object(2)\n",
            "memory usage: 180.7+ KB\n"
          ]
        }
      ]
    },
    {
      "cell_type": "markdown",
      "source": [
        "##So as we can see the column Choice_description has null values."
      ],
      "metadata": {
        "id": "eqXxjamGcYIy"
      }
    },
    {
      "cell_type": "code",
      "source": [
        "#Modifying price to remove the dollar sign and converting to float for better operations.\n",
        "chip['item_price']=chip['item_price'].apply(lambda x:x.replace('$',''))\n",
        "chip['item_price']=chip['item_price'].astype(float)\n",
        "chip['item_price'].sample(5)"
      ],
      "metadata": {
        "colab": {
          "base_uri": "https://localhost:8080/"
        },
        "id": "N5GxhcpTc321",
        "outputId": "400efb96-f2f5-4167-edc9-e5f4ff897ea4"
      },
      "execution_count": null,
      "outputs": [
        {
          "output_type": "execute_result",
          "data": {
            "text/plain": [
              "3867     3.99\n",
              "3232     2.95\n",
              "4147    11.75\n",
              "43      11.75\n",
              "3908    10.98\n",
              "Name: item_price, dtype: float64"
            ]
          },
          "metadata": {},
          "execution_count": 3
        }
      ]
    },
    {
      "cell_type": "code",
      "source": [
        "#chip['choice_description'].head(30)\n",
        "#print(chip.loc[chip.isnull().any(axis=1)])\n",
        "chip['choice_description']=chip['choice_description'].fillna('Unknown')"
      ],
      "metadata": {
        "id": "I9m6pDxOq3Cu"
      },
      "execution_count": null,
      "outputs": []
    },
    {
      "cell_type": "code",
      "source": [
        "chip['choice_description']"
      ],
      "metadata": {
        "colab": {
          "base_uri": "https://localhost:8080/"
        },
        "id": "ukmScWSwxYkk",
        "outputId": "7f339844-3fa0-4941-b18f-97b6f45a8ac6"
      },
      "execution_count": null,
      "outputs": [
        {
          "output_type": "execute_result",
          "data": {
            "text/plain": [
              "0                                                 Unknown\n",
              "1                                            [Clementine]\n",
              "2                                                 [Apple]\n",
              "3                                                 Unknown\n",
              "4       [Tomatillo-Red Chili Salsa (Hot), [Black Beans...\n",
              "                              ...                        \n",
              "4617    [Fresh Tomato Salsa, [Rice, Black Beans, Sour ...\n",
              "4618    [Fresh Tomato Salsa, [Rice, Sour Cream, Cheese...\n",
              "4619    [Fresh Tomato Salsa, [Fajita Vegetables, Pinto...\n",
              "4620    [Fresh Tomato Salsa, [Fajita Vegetables, Lettu...\n",
              "4621    [Fresh Tomato Salsa, [Fajita Vegetables, Pinto...\n",
              "Name: choice_description, Length: 4622, dtype: object"
            ]
          },
          "metadata": {},
          "execution_count": 5
        }
      ]
    },
    {
      "cell_type": "markdown",
      "source": [
        "Adding a Revenue Column"
      ],
      "metadata": {
        "id": "QkoNK8QKapuO"
      }
    },
    {
      "cell_type": "code",
      "source": [
        "chip['revenue']=chip['item_price']*chip['quantity']\n",
        "chip.sample(5)"
      ],
      "metadata": {
        "colab": {
          "base_uri": "https://localhost:8080/",
          "height": 206
        },
        "id": "7W8TgCMiE5sH",
        "outputId": "419aa779-a327-4d3a-f059-514a2fe18831"
      },
      "execution_count": null,
      "outputs": [
        {
          "output_type": "execute_result",
          "data": {
            "text/plain": [
              "      order_id  quantity           item_name  \\\n",
              "921        380         1               Chips   \n",
              "4601      1827         1   Canned Soft Drink   \n",
              "591        243         2  Chicken Salad Bowl   \n",
              "3412      1369         1         Veggie Bowl   \n",
              "2601      1032         1   Canned Soft Drink   \n",
              "\n",
              "                                     choice_description  item_price  revenue  \n",
              "921                                             Unknown        2.15     2.15  \n",
              "4601                                        [Diet Coke]        1.25     1.25  \n",
              "591   [Tomatillo Green Chili Salsa, [Black Beans, So...       22.50    45.00  \n",
              "3412  [Roasted Chili Corn Salsa, [Fajita Vegetables,...        8.75     8.75  \n",
              "2601                                        [Diet Coke]        1.25     1.25  "
            ],
            "text/html": [
              "\n",
              "  <div id=\"df-3486e270-27f7-4282-82d5-2890af2180ea\" class=\"colab-df-container\">\n",
              "    <div>\n",
              "<style scoped>\n",
              "    .dataframe tbody tr th:only-of-type {\n",
              "        vertical-align: middle;\n",
              "    }\n",
              "\n",
              "    .dataframe tbody tr th {\n",
              "        vertical-align: top;\n",
              "    }\n",
              "\n",
              "    .dataframe thead th {\n",
              "        text-align: right;\n",
              "    }\n",
              "</style>\n",
              "<table border=\"1\" class=\"dataframe\">\n",
              "  <thead>\n",
              "    <tr style=\"text-align: right;\">\n",
              "      <th></th>\n",
              "      <th>order_id</th>\n",
              "      <th>quantity</th>\n",
              "      <th>item_name</th>\n",
              "      <th>choice_description</th>\n",
              "      <th>item_price</th>\n",
              "      <th>revenue</th>\n",
              "    </tr>\n",
              "  </thead>\n",
              "  <tbody>\n",
              "    <tr>\n",
              "      <th>921</th>\n",
              "      <td>380</td>\n",
              "      <td>1</td>\n",
              "      <td>Chips</td>\n",
              "      <td>Unknown</td>\n",
              "      <td>2.15</td>\n",
              "      <td>2.15</td>\n",
              "    </tr>\n",
              "    <tr>\n",
              "      <th>4601</th>\n",
              "      <td>1827</td>\n",
              "      <td>1</td>\n",
              "      <td>Canned Soft Drink</td>\n",
              "      <td>[Diet Coke]</td>\n",
              "      <td>1.25</td>\n",
              "      <td>1.25</td>\n",
              "    </tr>\n",
              "    <tr>\n",
              "      <th>591</th>\n",
              "      <td>243</td>\n",
              "      <td>2</td>\n",
              "      <td>Chicken Salad Bowl</td>\n",
              "      <td>[Tomatillo Green Chili Salsa, [Black Beans, So...</td>\n",
              "      <td>22.50</td>\n",
              "      <td>45.00</td>\n",
              "    </tr>\n",
              "    <tr>\n",
              "      <th>3412</th>\n",
              "      <td>1369</td>\n",
              "      <td>1</td>\n",
              "      <td>Veggie Bowl</td>\n",
              "      <td>[Roasted Chili Corn Salsa, [Fajita Vegetables,...</td>\n",
              "      <td>8.75</td>\n",
              "      <td>8.75</td>\n",
              "    </tr>\n",
              "    <tr>\n",
              "      <th>2601</th>\n",
              "      <td>1032</td>\n",
              "      <td>1</td>\n",
              "      <td>Canned Soft Drink</td>\n",
              "      <td>[Diet Coke]</td>\n",
              "      <td>1.25</td>\n",
              "      <td>1.25</td>\n",
              "    </tr>\n",
              "  </tbody>\n",
              "</table>\n",
              "</div>\n",
              "    <div class=\"colab-df-buttons\">\n",
              "\n",
              "  <div class=\"colab-df-container\">\n",
              "    <button class=\"colab-df-convert\" onclick=\"convertToInteractive('df-3486e270-27f7-4282-82d5-2890af2180ea')\"\n",
              "            title=\"Convert this dataframe to an interactive table.\"\n",
              "            style=\"display:none;\">\n",
              "\n",
              "  <svg xmlns=\"http://www.w3.org/2000/svg\" height=\"24px\" viewBox=\"0 -960 960 960\">\n",
              "    <path d=\"M120-120v-720h720v720H120Zm60-500h600v-160H180v160Zm220 220h160v-160H400v160Zm0 220h160v-160H400v160ZM180-400h160v-160H180v160Zm440 0h160v-160H620v160ZM180-180h160v-160H180v160Zm440 0h160v-160H620v160Z\"/>\n",
              "  </svg>\n",
              "    </button>\n",
              "\n",
              "  <style>\n",
              "    .colab-df-container {\n",
              "      display:flex;\n",
              "      gap: 12px;\n",
              "    }\n",
              "\n",
              "    .colab-df-convert {\n",
              "      background-color: #E8F0FE;\n",
              "      border: none;\n",
              "      border-radius: 50%;\n",
              "      cursor: pointer;\n",
              "      display: none;\n",
              "      fill: #1967D2;\n",
              "      height: 32px;\n",
              "      padding: 0 0 0 0;\n",
              "      width: 32px;\n",
              "    }\n",
              "\n",
              "    .colab-df-convert:hover {\n",
              "      background-color: #E2EBFA;\n",
              "      box-shadow: 0px 1px 2px rgba(60, 64, 67, 0.3), 0px 1px 3px 1px rgba(60, 64, 67, 0.15);\n",
              "      fill: #174EA6;\n",
              "    }\n",
              "\n",
              "    .colab-df-buttons div {\n",
              "      margin-bottom: 4px;\n",
              "    }\n",
              "\n",
              "    [theme=dark] .colab-df-convert {\n",
              "      background-color: #3B4455;\n",
              "      fill: #D2E3FC;\n",
              "    }\n",
              "\n",
              "    [theme=dark] .colab-df-convert:hover {\n",
              "      background-color: #434B5C;\n",
              "      box-shadow: 0px 1px 3px 1px rgba(0, 0, 0, 0.15);\n",
              "      filter: drop-shadow(0px 1px 2px rgba(0, 0, 0, 0.3));\n",
              "      fill: #FFFFFF;\n",
              "    }\n",
              "  </style>\n",
              "\n",
              "    <script>\n",
              "      const buttonEl =\n",
              "        document.querySelector('#df-3486e270-27f7-4282-82d5-2890af2180ea button.colab-df-convert');\n",
              "      buttonEl.style.display =\n",
              "        google.colab.kernel.accessAllowed ? 'block' : 'none';\n",
              "\n",
              "      async function convertToInteractive(key) {\n",
              "        const element = document.querySelector('#df-3486e270-27f7-4282-82d5-2890af2180ea');\n",
              "        const dataTable =\n",
              "          await google.colab.kernel.invokeFunction('convertToInteractive',\n",
              "                                                    [key], {});\n",
              "        if (!dataTable) return;\n",
              "\n",
              "        const docLinkHtml = 'Like what you see? Visit the ' +\n",
              "          '<a target=\"_blank\" href=https://colab.research.google.com/notebooks/data_table.ipynb>data table notebook</a>'\n",
              "          + ' to learn more about interactive tables.';\n",
              "        element.innerHTML = '';\n",
              "        dataTable['output_type'] = 'display_data';\n",
              "        await google.colab.output.renderOutput(dataTable, element);\n",
              "        const docLink = document.createElement('div');\n",
              "        docLink.innerHTML = docLinkHtml;\n",
              "        element.appendChild(docLink);\n",
              "      }\n",
              "    </script>\n",
              "  </div>\n",
              "\n",
              "\n",
              "<div id=\"df-8dfcdfbc-41df-4ad2-aa11-d5bbf39bd080\">\n",
              "  <button class=\"colab-df-quickchart\" onclick=\"quickchart('df-8dfcdfbc-41df-4ad2-aa11-d5bbf39bd080')\"\n",
              "            title=\"Suggest charts\"\n",
              "            style=\"display:none;\">\n",
              "\n",
              "<svg xmlns=\"http://www.w3.org/2000/svg\" height=\"24px\"viewBox=\"0 0 24 24\"\n",
              "     width=\"24px\">\n",
              "    <g>\n",
              "        <path d=\"M19 3H5c-1.1 0-2 .9-2 2v14c0 1.1.9 2 2 2h14c1.1 0 2-.9 2-2V5c0-1.1-.9-2-2-2zM9 17H7v-7h2v7zm4 0h-2V7h2v10zm4 0h-2v-4h2v4z\"/>\n",
              "    </g>\n",
              "</svg>\n",
              "  </button>\n",
              "\n",
              "<style>\n",
              "  .colab-df-quickchart {\n",
              "      --bg-color: #E8F0FE;\n",
              "      --fill-color: #1967D2;\n",
              "      --hover-bg-color: #E2EBFA;\n",
              "      --hover-fill-color: #174EA6;\n",
              "      --disabled-fill-color: #AAA;\n",
              "      --disabled-bg-color: #DDD;\n",
              "  }\n",
              "\n",
              "  [theme=dark] .colab-df-quickchart {\n",
              "      --bg-color: #3B4455;\n",
              "      --fill-color: #D2E3FC;\n",
              "      --hover-bg-color: #434B5C;\n",
              "      --hover-fill-color: #FFFFFF;\n",
              "      --disabled-bg-color: #3B4455;\n",
              "      --disabled-fill-color: #666;\n",
              "  }\n",
              "\n",
              "  .colab-df-quickchart {\n",
              "    background-color: var(--bg-color);\n",
              "    border: none;\n",
              "    border-radius: 50%;\n",
              "    cursor: pointer;\n",
              "    display: none;\n",
              "    fill: var(--fill-color);\n",
              "    height: 32px;\n",
              "    padding: 0;\n",
              "    width: 32px;\n",
              "  }\n",
              "\n",
              "  .colab-df-quickchart:hover {\n",
              "    background-color: var(--hover-bg-color);\n",
              "    box-shadow: 0 1px 2px rgba(60, 64, 67, 0.3), 0 1px 3px 1px rgba(60, 64, 67, 0.15);\n",
              "    fill: var(--button-hover-fill-color);\n",
              "  }\n",
              "\n",
              "  .colab-df-quickchart-complete:disabled,\n",
              "  .colab-df-quickchart-complete:disabled:hover {\n",
              "    background-color: var(--disabled-bg-color);\n",
              "    fill: var(--disabled-fill-color);\n",
              "    box-shadow: none;\n",
              "  }\n",
              "\n",
              "  .colab-df-spinner {\n",
              "    border: 2px solid var(--fill-color);\n",
              "    border-color: transparent;\n",
              "    border-bottom-color: var(--fill-color);\n",
              "    animation:\n",
              "      spin 1s steps(1) infinite;\n",
              "  }\n",
              "\n",
              "  @keyframes spin {\n",
              "    0% {\n",
              "      border-color: transparent;\n",
              "      border-bottom-color: var(--fill-color);\n",
              "      border-left-color: var(--fill-color);\n",
              "    }\n",
              "    20% {\n",
              "      border-color: transparent;\n",
              "      border-left-color: var(--fill-color);\n",
              "      border-top-color: var(--fill-color);\n",
              "    }\n",
              "    30% {\n",
              "      border-color: transparent;\n",
              "      border-left-color: var(--fill-color);\n",
              "      border-top-color: var(--fill-color);\n",
              "      border-right-color: var(--fill-color);\n",
              "    }\n",
              "    40% {\n",
              "      border-color: transparent;\n",
              "      border-right-color: var(--fill-color);\n",
              "      border-top-color: var(--fill-color);\n",
              "    }\n",
              "    60% {\n",
              "      border-color: transparent;\n",
              "      border-right-color: var(--fill-color);\n",
              "    }\n",
              "    80% {\n",
              "      border-color: transparent;\n",
              "      border-right-color: var(--fill-color);\n",
              "      border-bottom-color: var(--fill-color);\n",
              "    }\n",
              "    90% {\n",
              "      border-color: transparent;\n",
              "      border-bottom-color: var(--fill-color);\n",
              "    }\n",
              "  }\n",
              "</style>\n",
              "\n",
              "  <script>\n",
              "    async function quickchart(key) {\n",
              "      const quickchartButtonEl =\n",
              "        document.querySelector('#' + key + ' button');\n",
              "      quickchartButtonEl.disabled = true;  // To prevent multiple clicks.\n",
              "      quickchartButtonEl.classList.add('colab-df-spinner');\n",
              "      try {\n",
              "        const charts = await google.colab.kernel.invokeFunction(\n",
              "            'suggestCharts', [key], {});\n",
              "      } catch (error) {\n",
              "        console.error('Error during call to suggestCharts:', error);\n",
              "      }\n",
              "      quickchartButtonEl.classList.remove('colab-df-spinner');\n",
              "      quickchartButtonEl.classList.add('colab-df-quickchart-complete');\n",
              "    }\n",
              "    (() => {\n",
              "      let quickchartButtonEl =\n",
              "        document.querySelector('#df-8dfcdfbc-41df-4ad2-aa11-d5bbf39bd080 button');\n",
              "      quickchartButtonEl.style.display =\n",
              "        google.colab.kernel.accessAllowed ? 'block' : 'none';\n",
              "    })();\n",
              "  </script>\n",
              "</div>\n",
              "\n",
              "    </div>\n",
              "  </div>\n"
            ]
          },
          "metadata": {},
          "execution_count": 7
        }
      ]
    },
    {
      "cell_type": "markdown",
      "source": [
        "####How much was the revenue for the period in the dataset?"
      ],
      "metadata": {
        "id": "VwzvCryiajfQ"
      }
    },
    {
      "cell_type": "code",
      "source": [
        "total_revenue=chip['revenue'].sum()\n",
        "print('$',total_revenue)"
      ],
      "metadata": {
        "colab": {
          "base_uri": "https://localhost:8080/"
        },
        "id": "aEbsrjguWYE0",
        "outputId": "ef0a8edd-b24c-4bf0-b71a-55c51990bdf2"
      },
      "execution_count": null,
      "outputs": [
        {
          "output_type": "stream",
          "name": "stdout",
          "text": [
            "$ 38914.11\n"
          ]
        }
      ]
    },
    {
      "cell_type": "markdown",
      "source": [
        "####Quantity of each item"
      ],
      "metadata": {
        "id": "aJQ9XcYEW-h2"
      }
    },
    {
      "cell_type": "code",
      "source": [
        "chip.groupby('item_name')['quantity'].sum()"
      ],
      "metadata": {
        "colab": {
          "base_uri": "https://localhost:8080/"
        },
        "id": "Ir8wcuoyXGH2",
        "outputId": "936087e6-5685-42fb-d64e-b6dcdfc25735"
      },
      "execution_count": null,
      "outputs": [
        {
          "output_type": "execute_result",
          "data": {
            "text/plain": [
              "item_name\n",
              "6 Pack Soft Drink                         55\n",
              "Barbacoa Bowl                             65\n",
              "Barbacoa Burrito                          90\n",
              "Barbacoa Crispy Tacos                     12\n",
              "Barbacoa Salad Bowl                        9\n",
              "Barbacoa Soft Tacos                       25\n",
              "Bottled Water                            204\n",
              "Bowl                                       4\n",
              "Burrito                                    6\n",
              "Canned Soda                              124\n",
              "Canned Soft Drink                        340\n",
              "Carnitas Bowl                             71\n",
              "Carnitas Burrito                          60\n",
              "Carnitas Crispy Tacos                      8\n",
              "Carnitas Salad                             1\n",
              "Carnitas Salad Bowl                        6\n",
              "Carnitas Soft Tacos                       40\n",
              "Chicken Bowl                             752\n",
              "Chicken Burrito                          584\n",
              "Chicken Crispy Tacos                      50\n",
              "Chicken Salad                              9\n",
              "Chicken Salad Bowl                       123\n",
              "Chicken Soft Tacos                       116\n",
              "Chips                                    227\n",
              "Chips and Fresh Tomato Salsa             130\n",
              "Chips and Guacamole                      501\n",
              "Chips and Mild Fresh Tomato Salsa          1\n",
              "Chips and Roasted Chili Corn Salsa        23\n",
              "Chips and Roasted Chili-Corn Salsa        18\n",
              "Chips and Tomatillo Green Chili Salsa     45\n",
              "Chips and Tomatillo Red Chili Salsa       48\n",
              "Chips and Tomatillo-Green Chili Salsa     33\n",
              "Chips and Tomatillo-Red Chili Salsa       24\n",
              "Crispy Tacos                               2\n",
              "Izze                                      19\n",
              "Nantucket Nectar                          29\n",
              "Salad                                      2\n",
              "Side of Chips                            110\n",
              "Steak Bowl                               220\n",
              "Steak Burrito                            383\n",
              "Steak Crispy Tacos                        36\n",
              "Steak Salad                                4\n",
              "Steak Salad Bowl                          31\n",
              "Steak Soft Tacos                          56\n",
              "Veggie Bowl                               87\n",
              "Veggie Burrito                            97\n",
              "Veggie Crispy Tacos                        1\n",
              "Veggie Salad                               6\n",
              "Veggie Salad Bowl                         18\n",
              "Veggie Soft Tacos                          8\n",
              "Name: quantity, dtype: int64"
            ]
          },
          "metadata": {},
          "execution_count": 11
        }
      ]
    },
    {
      "cell_type": "markdown",
      "source": [
        "####What was the most ordered item in the **choice_description** column"
      ],
      "metadata": {
        "id": "Szxc907lXklo"
      }
    },
    {
      "cell_type": "code",
      "source": [
        "most_chosen=chip.groupby('choice_description')['quantity'].sum().sort_values(ascending=False).head(2)\n",
        "print(most_chosen)"
      ],
      "metadata": {
        "colab": {
          "base_uri": "https://localhost:8080/"
        },
        "id": "up02UGrLXqzc",
        "outputId": "3665ce8c-b8aa-4cd4-98fe-73f608b7b350"
      },
      "execution_count": null,
      "outputs": [
        {
          "output_type": "stream",
          "name": "stdout",
          "text": [
            "choice_description\n",
            "Unknown        1364\n",
            "[Diet Coke]     158\n",
            "Name: quantity, dtype: int64\n"
          ]
        }
      ]
    },
    {
      "cell_type": "markdown",
      "source": [
        "####How many items were ordered in total?"
      ],
      "metadata": {
        "id": "buNFzFk8Z_q-"
      }
    },
    {
      "cell_type": "code",
      "source": [
        "chip['item_name'].count()"
      ],
      "metadata": {
        "colab": {
          "base_uri": "https://localhost:8080/"
        },
        "id": "g9ZsSvsQaBYS",
        "outputId": "b02598f0-2c35-4c93-f713-4e11ff10d6d1"
      },
      "execution_count": null,
      "outputs": [
        {
          "output_type": "execute_result",
          "data": {
            "text/plain": [
              "4563"
            ]
          },
          "metadata": {},
          "execution_count": 32
        }
      ]
    },
    {
      "cell_type": "markdown",
      "source": [
        "####How many orders were made in the period?"
      ],
      "metadata": {
        "id": "i_nuOKXsa2P2"
      }
    },
    {
      "cell_type": "code",
      "source": [
        "chip['order_id'].nunique()"
      ],
      "metadata": {
        "colab": {
          "base_uri": "https://localhost:8080/"
        },
        "id": "UFJtLIXha5Xf",
        "outputId": "4c11185a-76ed-46b1-a45c-31ebafc5e53c"
      },
      "execution_count": null,
      "outputs": [
        {
          "output_type": "execute_result",
          "data": {
            "text/plain": [
              "1834"
            ]
          },
          "metadata": {},
          "execution_count": 25
        }
      ]
    },
    {
      "cell_type": "markdown",
      "source": [
        "####What is the average revenue amount per order?"
      ],
      "metadata": {
        "id": "KpsPsxf5bBmU"
      }
    },
    {
      "cell_type": "code",
      "source": [
        "total_orders=chip['order_id'].count()\n",
        "avg_revenue=round(total_revenue/total_orders,2)\n",
        "print('$',avg_revenue)"
      ],
      "metadata": {
        "colab": {
          "base_uri": "https://localhost:8080/"
        },
        "id": "n8ltl3RXbC9I",
        "outputId": "38ed2df2-98c1-4042-991b-f30041f0ae7c"
      },
      "execution_count": null,
      "outputs": [
        {
          "output_type": "stream",
          "name": "stdout",
          "text": [
            "$ 8.53\n"
          ]
        }
      ]
    },
    {
      "cell_type": "markdown",
      "source": [
        "####How many different items are sold?"
      ],
      "metadata": {
        "id": "Q7T5MFbQcDq9"
      }
    },
    {
      "cell_type": "code",
      "source": [
        "chip['item_name'].nunique()"
      ],
      "metadata": {
        "colab": {
          "base_uri": "https://localhost:8080/"
        },
        "id": "Dlw8_c4ScFlZ",
        "outputId": "78e6bb6b-8b81-43ed-abb0-a8e335140efb"
      },
      "execution_count": null,
      "outputs": [
        {
          "output_type": "execute_result",
          "data": {
            "text/plain": [
              "50"
            ]
          },
          "metadata": {},
          "execution_count": 33
        }
      ]
    },
    {
      "cell_type": "markdown",
      "source": [
        "##Thank You!\n"
      ],
      "metadata": {
        "id": "JZCwHpxm8xfZ"
      }
    }
  ]
}